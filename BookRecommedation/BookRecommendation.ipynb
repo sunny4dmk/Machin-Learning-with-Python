{
 "cells": [
  {
   "cell_type": "markdown",
   "id": "127827d4-5898-4e7d-984f-805342682fa4",
   "metadata": {},
   "source": [
    "### Problem Statement\n",
    "\n",
    "Book Rent is the largest online and offline book rental chain in India. They provide books of various genres such as thriller, mystery, romance, and science fiction. The company charges a fixed rental fee for a book per month. Lately, the company has been losing its user base. The main reason for this is that users are not able to choose the right books for themselves. The company wants to solve this problem and increase its revenue and profit. \n",
    "\n",
    "In this project, I performed user-based collaborative filtering and item-based collaborative filtering, and evaluated the model using RMSE.\n",
    "The objectives of this project are to improve the user experience by personalizing the user needs, and create a recommendation engine so that users get \n",
    "recommendations for books based on the behavior o \r\n",
    "similar users. This will ensure that users are renting t e\r\n",
    "books based on their tastes and traits."
   ]
  },
  {
   "cell_type": "markdown",
   "id": "2e22bccf-259c-42ef-adfe-5b47150a8318",
   "metadata": {},
   "source": [
    "### Read the books dataset and explore it"
   ]
  },
  {
   "cell_type": "code",
   "execution_count": 1,
   "id": "c092ef10-3348-4fdf-825a-dc6d138b26ab",
   "metadata": {},
   "outputs": [],
   "source": [
    "import pandas as pd\n",
    "import matplotlib.pyplot as plt\n",
    "import seaborn as sns\n",
    "import numpy as np\n",
    "import warnings\n",
    "warnings.filterwarnings('ignore')\n",
    "\n",
    "\n",
    "books_file = 'BX-Books.csv'\n",
    "books_df = pd.read_csv(books_file, encoding='ISO-8859-1')\n",
    "recommend_file = 'Recommend.csv'\n",
    "recommend_df = pd.read_csv(recommend_file, encoding='ISO-8859-1')\n",
    "users_file = 'BX-Users.csv'\n",
    "users_df = pd.read_csv(users_file, encoding='ISO-8859-1')"
   ]
  },
  {
   "cell_type": "code",
   "execution_count": 2,
   "id": "24a039b1-40a6-4f46-859d-4f32e1ecd094",
   "metadata": {},
   "outputs": [
    {
     "data": {
      "text/html": [
       "<div>\n",
       "<style scoped>\n",
       "    .dataframe tbody tr th:only-of-type {\n",
       "        vertical-align: middle;\n",
       "    }\n",
       "\n",
       "    .dataframe tbody tr th {\n",
       "        vertical-align: top;\n",
       "    }\n",
       "\n",
       "    .dataframe thead th {\n",
       "        text-align: right;\n",
       "    }\n",
       "</style>\n",
       "<table border=\"1\" class=\"dataframe\">\n",
       "  <thead>\n",
       "    <tr style=\"text-align: right;\">\n",
       "      <th></th>\n",
       "      <th>isbn</th>\n",
       "      <th>book_title</th>\n",
       "      <th>book_author</th>\n",
       "      <th>year_of_publication</th>\n",
       "      <th>publisher</th>\n",
       "    </tr>\n",
       "  </thead>\n",
       "  <tbody>\n",
       "    <tr>\n",
       "      <th>0</th>\n",
       "      <td>195153448</td>\n",
       "      <td>Classical Mythology</td>\n",
       "      <td>Mark P. O. Morford</td>\n",
       "      <td>2002</td>\n",
       "      <td>Oxford University Press</td>\n",
       "    </tr>\n",
       "    <tr>\n",
       "      <th>1</th>\n",
       "      <td>2005018</td>\n",
       "      <td>Clara Callan</td>\n",
       "      <td>Richard Bruce Wright</td>\n",
       "      <td>2001</td>\n",
       "      <td>HarperFlamingo Canada</td>\n",
       "    </tr>\n",
       "    <tr>\n",
       "      <th>2</th>\n",
       "      <td>60973129</td>\n",
       "      <td>Decision in Normandy</td>\n",
       "      <td>Carlo D'Este</td>\n",
       "      <td>1991</td>\n",
       "      <td>HarperPerennial</td>\n",
       "    </tr>\n",
       "    <tr>\n",
       "      <th>3</th>\n",
       "      <td>374157065</td>\n",
       "      <td>Flu: The Story of the Great Influenza Pandemic...</td>\n",
       "      <td>Gina Bari Kolata</td>\n",
       "      <td>1999</td>\n",
       "      <td>Farrar Straus Giroux</td>\n",
       "    </tr>\n",
       "    <tr>\n",
       "      <th>4</th>\n",
       "      <td>393045218</td>\n",
       "      <td>The Mummies of Urumchi</td>\n",
       "      <td>E. J. W. Barber</td>\n",
       "      <td>1999</td>\n",
       "      <td>W. W. Norton &amp;amp; Company</td>\n",
       "    </tr>\n",
       "  </tbody>\n",
       "</table>\n",
       "</div>"
      ],
      "text/plain": [
       "        isbn                                         book_title  \\\n",
       "0  195153448                                Classical Mythology   \n",
       "1    2005018                                       Clara Callan   \n",
       "2   60973129                               Decision in Normandy   \n",
       "3  374157065  Flu: The Story of the Great Influenza Pandemic...   \n",
       "4  393045218                             The Mummies of Urumchi   \n",
       "\n",
       "            book_author year_of_publication                   publisher  \n",
       "0    Mark P. O. Morford                2002     Oxford University Press  \n",
       "1  Richard Bruce Wright                2001       HarperFlamingo Canada  \n",
       "2          Carlo D'Este                1991             HarperPerennial  \n",
       "3      Gina Bari Kolata                1999        Farrar Straus Giroux  \n",
       "4       E. J. W. Barber                1999  W. W. Norton &amp; Company  "
      ]
     },
     "execution_count": 2,
     "metadata": {},
     "output_type": "execute_result"
    }
   ],
   "source": [
    "books_df.head()"
   ]
  },
  {
   "cell_type": "code",
   "execution_count": 3,
   "id": "cdfd8dcb-c936-4c5c-a9c8-6093426ec579",
   "metadata": {
    "scrolled": true
   },
   "outputs": [
    {
     "name": "stdout",
     "output_type": "stream",
     "text": [
      "<class 'pandas.core.frame.DataFrame'>\n",
      "RangeIndex: 271379 entries, 0 to 271378\n",
      "Data columns (total 5 columns):\n",
      " #   Column               Non-Null Count   Dtype \n",
      "---  ------               --------------   ----- \n",
      " 0   isbn                 271379 non-null  object\n",
      " 1   book_title           271379 non-null  object\n",
      " 2   book_author          271377 non-null  object\n",
      " 3   year_of_publication  271379 non-null  object\n",
      " 4   publisher            271377 non-null  object\n",
      "dtypes: object(5)\n",
      "memory usage: 10.4+ MB\n"
     ]
    }
   ],
   "source": [
    "books_df.info()"
   ]
  },
  {
   "cell_type": "markdown",
   "id": "54973c0f-3a63-4737-95ce-81cf496765c1",
   "metadata": {},
   "source": [
    "### Clean up NaN values"
   ]
  },
  {
   "cell_type": "code",
   "execution_count": 4,
   "id": "31c276af-5230-4a18-9d56-7b037b22a7f2",
   "metadata": {},
   "outputs": [
    {
     "data": {
      "text/plain": [
       "isbn                   0\n",
       "book_title             0\n",
       "book_author            2\n",
       "year_of_publication    0\n",
       "publisher              2\n",
       "dtype: int64"
      ]
     },
     "execution_count": 4,
     "metadata": {},
     "output_type": "execute_result"
    }
   ],
   "source": [
    "books_df.isnull().sum()"
   ]
  },
  {
   "cell_type": "code",
   "execution_count": 5,
   "id": "64af5240-8b95-4571-9dbe-c4d47ba92220",
   "metadata": {},
   "outputs": [],
   "source": [
    "books_df.fillna(value='unknown', axis=0, inplace=True)"
   ]
  },
  {
   "cell_type": "code",
   "execution_count": 6,
   "id": "550db39f-4a4c-4ecf-8e9e-b7b135655b1e",
   "metadata": {},
   "outputs": [
    {
     "data": {
      "text/plain": [
       "isbn                   False\n",
       "book_title             False\n",
       "book_author            False\n",
       "year_of_publication    False\n",
       "publisher              False\n",
       "dtype: bool"
      ]
     },
     "execution_count": 6,
     "metadata": {},
     "output_type": "execute_result"
    }
   ],
   "source": [
    "books_df.isna().any()"
   ]
  },
  {
   "cell_type": "markdown",
   "id": "8c99045d-b913-455e-93f7-5c13efe83a31",
   "metadata": {},
   "source": [
    "NaN values were removed"
   ]
  },
  {
   "cell_type": "markdown",
   "id": "1837099f-6ced-4101-97ff-9aef81a7280f",
   "metadata": {},
   "source": [
    "##### Read 20000 rows of the data where ratings are given by users"
   ]
  },
  {
   "cell_type": "code",
   "execution_count": 7,
   "id": "4da987eb-b0aa-40c7-b975-8a508376e91f",
   "metadata": {},
   "outputs": [],
   "source": [
    "rating_file = 'BX-Book-Ratings.csv'\n",
    "rating_df = pd.read_csv(rating_file, encoding='ISO-8859-1', nrows=20000)"
   ]
  },
  {
   "cell_type": "code",
   "execution_count": 8,
   "id": "fad687e4-9415-4e06-be1f-e8ab1a18d156",
   "metadata": {},
   "outputs": [
    {
     "data": {
      "text/html": [
       "<div>\n",
       "<style scoped>\n",
       "    .dataframe tbody tr th:only-of-type {\n",
       "        vertical-align: middle;\n",
       "    }\n",
       "\n",
       "    .dataframe tbody tr th {\n",
       "        vertical-align: top;\n",
       "    }\n",
       "\n",
       "    .dataframe thead th {\n",
       "        text-align: right;\n",
       "    }\n",
       "</style>\n",
       "<table border=\"1\" class=\"dataframe\">\n",
       "  <thead>\n",
       "    <tr style=\"text-align: right;\">\n",
       "      <th></th>\n",
       "      <th>user_id</th>\n",
       "      <th>isbn</th>\n",
       "      <th>rating</th>\n",
       "    </tr>\n",
       "  </thead>\n",
       "  <tbody>\n",
       "    <tr>\n",
       "      <th>0</th>\n",
       "      <td>276725</td>\n",
       "      <td>034545104X</td>\n",
       "      <td>0</td>\n",
       "    </tr>\n",
       "    <tr>\n",
       "      <th>1</th>\n",
       "      <td>276726</td>\n",
       "      <td>155061224</td>\n",
       "      <td>5</td>\n",
       "    </tr>\n",
       "    <tr>\n",
       "      <th>2</th>\n",
       "      <td>276727</td>\n",
       "      <td>446520802</td>\n",
       "      <td>0</td>\n",
       "    </tr>\n",
       "    <tr>\n",
       "      <th>3</th>\n",
       "      <td>276729</td>\n",
       "      <td>052165615X</td>\n",
       "      <td>3</td>\n",
       "    </tr>\n",
       "    <tr>\n",
       "      <th>4</th>\n",
       "      <td>276729</td>\n",
       "      <td>521795028</td>\n",
       "      <td>6</td>\n",
       "    </tr>\n",
       "  </tbody>\n",
       "</table>\n",
       "</div>"
      ],
      "text/plain": [
       "   user_id        isbn  rating\n",
       "0   276725  034545104X       0\n",
       "1   276726   155061224       5\n",
       "2   276727   446520802       0\n",
       "3   276729  052165615X       3\n",
       "4   276729   521795028       6"
      ]
     },
     "execution_count": 8,
     "metadata": {},
     "output_type": "execute_result"
    }
   ],
   "source": [
    "rating_df.head()"
   ]
  },
  {
   "cell_type": "code",
   "execution_count": 9,
   "id": "2cf76abf-0b01-4961-a308-e3d5e95ee3c9",
   "metadata": {},
   "outputs": [
    {
     "name": "stdout",
     "output_type": "stream",
     "text": [
      "<class 'pandas.core.frame.DataFrame'>\n",
      "RangeIndex: 20000 entries, 0 to 19999\n",
      "Data columns (total 3 columns):\n",
      " #   Column   Non-Null Count  Dtype \n",
      "---  ------   --------------  ----- \n",
      " 0   user_id  20000 non-null  int64 \n",
      " 1   isbn     20000 non-null  object\n",
      " 2   rating   20000 non-null  int64 \n",
      "dtypes: int64(2), object(1)\n",
      "memory usage: 468.9+ KB\n"
     ]
    }
   ],
   "source": [
    "rating_df.info()"
   ]
  },
  {
   "cell_type": "markdown",
   "id": "57977488-7388-42bb-b8fa-e49e87576071",
   "metadata": {},
   "source": [
    "### Explore data"
   ]
  },
  {
   "cell_type": "code",
   "execution_count": 10,
   "id": "4180da53-0be3-4795-96de-960ed72f73a5",
   "metadata": {},
   "outputs": [
    {
     "name": "stdout",
     "output_type": "stream",
     "text": [
      "There are 63.30 % users who did not rate\n"
     ]
    }
   ],
   "source": [
    "# There are a lot of 0 ratings, which means there are a lot of implicit users who did not rate.\n",
    "\n",
    "implicit_number = rating_df[rating_df.rating == 0].shape[0]\n",
    "print(\"There are {:.2f} % users who did not rate\".format(implicit_number /rating_df.shape[0]*100))"
   ]
  },
  {
   "cell_type": "code",
   "execution_count": 11,
   "id": "fe7ad4e8-f17c-47b1-8d4f-fe28ea89f8d1",
   "metadata": {},
   "outputs": [
    {
     "data": {
      "text/html": [
       "<div>\n",
       "<style scoped>\n",
       "    .dataframe tbody tr th:only-of-type {\n",
       "        vertical-align: middle;\n",
       "    }\n",
       "\n",
       "    .dataframe tbody tr th {\n",
       "        vertical-align: top;\n",
       "    }\n",
       "\n",
       "    .dataframe thead th {\n",
       "        text-align: right;\n",
       "    }\n",
       "</style>\n",
       "<table border=\"1\" class=\"dataframe\">\n",
       "  <thead>\n",
       "    <tr style=\"text-align: right;\">\n",
       "      <th></th>\n",
       "      <th>user_id</th>\n",
       "      <th>rating</th>\n",
       "    </tr>\n",
       "  </thead>\n",
       "  <tbody>\n",
       "    <tr>\n",
       "      <th>count</th>\n",
       "      <td>20000.000000</td>\n",
       "      <td>20000.000000</td>\n",
       "    </tr>\n",
       "    <tr>\n",
       "      <th>mean</th>\n",
       "      <td>134003.493850</td>\n",
       "      <td>2.782000</td>\n",
       "    </tr>\n",
       "    <tr>\n",
       "      <th>std</th>\n",
       "      <td>137856.086563</td>\n",
       "      <td>3.815023</td>\n",
       "    </tr>\n",
       "    <tr>\n",
       "      <th>min</th>\n",
       "      <td>2.000000</td>\n",
       "      <td>0.000000</td>\n",
       "    </tr>\n",
       "    <tr>\n",
       "      <th>25%</th>\n",
       "      <td>2110.000000</td>\n",
       "      <td>0.000000</td>\n",
       "    </tr>\n",
       "    <tr>\n",
       "      <th>50%</th>\n",
       "      <td>3735.000000</td>\n",
       "      <td>0.000000</td>\n",
       "    </tr>\n",
       "    <tr>\n",
       "      <th>75%</th>\n",
       "      <td>278418.000000</td>\n",
       "      <td>7.000000</td>\n",
       "    </tr>\n",
       "    <tr>\n",
       "      <th>max</th>\n",
       "      <td>278854.000000</td>\n",
       "      <td>10.000000</td>\n",
       "    </tr>\n",
       "  </tbody>\n",
       "</table>\n",
       "</div>"
      ],
      "text/plain": [
       "             user_id        rating\n",
       "count   20000.000000  20000.000000\n",
       "mean   134003.493850      2.782000\n",
       "std    137856.086563      3.815023\n",
       "min         2.000000      0.000000\n",
       "25%      2110.000000      0.000000\n",
       "50%      3735.000000      0.000000\n",
       "75%    278418.000000      7.000000\n",
       "max    278854.000000     10.000000"
      ]
     },
     "execution_count": 11,
     "metadata": {},
     "output_type": "execute_result"
    }
   ],
   "source": [
    "rating_df.describe()"
   ]
  },
  {
   "cell_type": "code",
   "execution_count": 12,
   "id": "ef38376d-49c1-48da-8f19-a190775ef19b",
   "metadata": {},
   "outputs": [
    {
     "name": "stdout",
     "output_type": "stream",
     "text": [
      "Count of ratings per user :  Min=1.00, Mean=9.17, Max=4533.00\n"
     ]
    }
   ],
   "source": [
    "rating_count=rating_df.groupby('user_id')['rating'].count()\n",
    "print(\"Count of ratings per user :  Min={:.2f}, Mean={:.2f}, Max={:.2f}\"\n",
    "      .format(rating_count.min(), rating_count.mean(), rating_count.max()))"
   ]
  },
  {
   "cell_type": "code",
   "execution_count": 13,
   "id": "c4a5dc9a-3f2d-4bb5-b168-4abf079cbf05",
   "metadata": {},
   "outputs": [],
   "source": [
    "def get_percentage(df, array) :\n",
    "    percentage=round(array.size/df.shape[0]*100, 2)\n",
    "    return percentage"
   ]
  },
  {
   "cell_type": "code",
   "execution_count": 14,
   "id": "c76529b7-0898-4224-ae73-31e9229455a5",
   "metadata": {},
   "outputs": [
    {
     "name": "stdout",
     "output_type": "stream",
     "text": [
      "5.23% users rated more than 20 times per each user and maximum rating count is 13602\n"
     ]
    }
   ],
   "source": [
    "rating_count = pd.DataFrame(rating_count)\n",
    "rating_count.rename({\"rating\":\"rating_count\"}, axis=1, inplace=True)\n",
    "print(\"{:.2f}% users rated more than 20 times per each user and maximum rating count is 13602\"\n",
    "      .format(get_percentage(rating_count, rating_count[rating_count['rating_count'] > 20])))"
   ]
  },
  {
   "cell_type": "code",
   "execution_count": 15,
   "id": "4ecba8a3-4550-458c-aa46-b31a76d98537",
   "metadata": {},
   "outputs": [
    {
     "data": {
      "text/plain": [
       "2"
      ]
     },
     "execution_count": 15,
     "metadata": {},
     "output_type": "execute_result"
    }
   ],
   "source": [
    "rating_count[rating_count['rating_count'] > 500].size"
   ]
  },
  {
   "cell_type": "code",
   "execution_count": 16,
   "id": "db23c437-ce5f-483b-b78f-bae6968a9bb8",
   "metadata": {},
   "outputs": [
    {
     "data": {
      "text/plain": [
       "array([ 0,  5,  3,  6,  8,  7, 10,  9,  4,  1,  2], dtype=int64)"
      ]
     },
     "execution_count": 16,
     "metadata": {},
     "output_type": "execute_result"
    }
   ],
   "source": [
    "rating_df['rating'].unique()"
   ]
  },
  {
   "cell_type": "code",
   "execution_count": 17,
   "id": "ce341247-f435-43ce-ac1a-86bf3915a264",
   "metadata": {},
   "outputs": [
    {
     "data": {
      "text/plain": [
       "user_id    0\n",
       "isbn       0\n",
       "rating     0\n",
       "dtype: int64"
      ]
     },
     "execution_count": 17,
     "metadata": {},
     "output_type": "execute_result"
    }
   ],
   "source": [
    "rating_df.isna().sum()"
   ]
  },
  {
   "cell_type": "code",
   "execution_count": 18,
   "id": "68f7d292-ae86-4555-9e8a-67e9f94a42d8",
   "metadata": {},
   "outputs": [
    {
     "data": {
      "text/html": [
       "<div>\n",
       "<style scoped>\n",
       "    .dataframe tbody tr th:only-of-type {\n",
       "        vertical-align: middle;\n",
       "    }\n",
       "\n",
       "    .dataframe tbody tr th {\n",
       "        vertical-align: top;\n",
       "    }\n",
       "\n",
       "    .dataframe thead th {\n",
       "        text-align: right;\n",
       "    }\n",
       "</style>\n",
       "<table border=\"1\" class=\"dataframe\">\n",
       "  <thead>\n",
       "    <tr style=\"text-align: right;\">\n",
       "      <th></th>\n",
       "      <th>user_id</th>\n",
       "      <th>Location</th>\n",
       "      <th>Age</th>\n",
       "    </tr>\n",
       "  </thead>\n",
       "  <tbody>\n",
       "    <tr>\n",
       "      <th>0</th>\n",
       "      <td>1</td>\n",
       "      <td>nyc, new york, usa</td>\n",
       "      <td>NaN</td>\n",
       "    </tr>\n",
       "    <tr>\n",
       "      <th>1</th>\n",
       "      <td>2</td>\n",
       "      <td>stockton, california, usa</td>\n",
       "      <td>18.0</td>\n",
       "    </tr>\n",
       "    <tr>\n",
       "      <th>2</th>\n",
       "      <td>3</td>\n",
       "      <td>moscow, yukon territory, russia</td>\n",
       "      <td>NaN</td>\n",
       "    </tr>\n",
       "    <tr>\n",
       "      <th>3</th>\n",
       "      <td>4</td>\n",
       "      <td>porto, v.n.gaia, portugal</td>\n",
       "      <td>17.0</td>\n",
       "    </tr>\n",
       "    <tr>\n",
       "      <th>4</th>\n",
       "      <td>5</td>\n",
       "      <td>farnborough, hants, united kingdom</td>\n",
       "      <td>NaN</td>\n",
       "    </tr>\n",
       "  </tbody>\n",
       "</table>\n",
       "</div>"
      ],
      "text/plain": [
       "  user_id                            Location   Age\n",
       "0       1                  nyc, new york, usa   NaN\n",
       "1       2           stockton, california, usa  18.0\n",
       "2       3     moscow, yukon territory, russia   NaN\n",
       "3       4           porto, v.n.gaia, portugal  17.0\n",
       "4       5  farnborough, hants, united kingdom   NaN"
      ]
     },
     "execution_count": 18,
     "metadata": {},
     "output_type": "execute_result"
    }
   ],
   "source": [
    "# check user information in dataset\n",
    "users_df.head()"
   ]
  },
  {
   "cell_type": "code",
   "execution_count": 19,
   "id": "c166f9b6-aeb9-4772-93da-0119ba31c0ee",
   "metadata": {},
   "outputs": [
    {
     "name": "stdout",
     "output_type": "stream",
     "text": [
      "<class 'pandas.core.frame.DataFrame'>\n",
      "RangeIndex: 278859 entries, 0 to 278858\n",
      "Data columns (total 3 columns):\n",
      " #   Column    Non-Null Count   Dtype  \n",
      "---  ------    --------------   -----  \n",
      " 0   user_id   278859 non-null  object \n",
      " 1   Location  278858 non-null  object \n",
      " 2   Age       168096 non-null  float64\n",
      "dtypes: float64(1), object(2)\n",
      "memory usage: 6.4+ MB\n"
     ]
    }
   ],
   "source": [
    "users_df.info()"
   ]
  },
  {
   "cell_type": "code",
   "execution_count": 20,
   "id": "63f57eb7-7127-474d-b3b1-d2be0de8559e",
   "metadata": {},
   "outputs": [
    {
     "data": {
      "text/html": [
       "<div>\n",
       "<style scoped>\n",
       "    .dataframe tbody tr th:only-of-type {\n",
       "        vertical-align: middle;\n",
       "    }\n",
       "\n",
       "    .dataframe tbody tr th {\n",
       "        vertical-align: top;\n",
       "    }\n",
       "\n",
       "    .dataframe thead th {\n",
       "        text-align: right;\n",
       "    }\n",
       "</style>\n",
       "<table border=\"1\" class=\"dataframe\">\n",
       "  <thead>\n",
       "    <tr style=\"text-align: right;\">\n",
       "      <th></th>\n",
       "      <th>Age</th>\n",
       "    </tr>\n",
       "  </thead>\n",
       "  <tbody>\n",
       "    <tr>\n",
       "      <th>count</th>\n",
       "      <td>168096.000000</td>\n",
       "    </tr>\n",
       "    <tr>\n",
       "      <th>mean</th>\n",
       "      <td>34.751434</td>\n",
       "    </tr>\n",
       "    <tr>\n",
       "      <th>std</th>\n",
       "      <td>14.428097</td>\n",
       "    </tr>\n",
       "    <tr>\n",
       "      <th>min</th>\n",
       "      <td>0.000000</td>\n",
       "    </tr>\n",
       "    <tr>\n",
       "      <th>25%</th>\n",
       "      <td>24.000000</td>\n",
       "    </tr>\n",
       "    <tr>\n",
       "      <th>50%</th>\n",
       "      <td>32.000000</td>\n",
       "    </tr>\n",
       "    <tr>\n",
       "      <th>75%</th>\n",
       "      <td>44.000000</td>\n",
       "    </tr>\n",
       "    <tr>\n",
       "      <th>max</th>\n",
       "      <td>244.000000</td>\n",
       "    </tr>\n",
       "  </tbody>\n",
       "</table>\n",
       "</div>"
      ],
      "text/plain": [
       "                 Age\n",
       "count  168096.000000\n",
       "mean       34.751434\n",
       "std        14.428097\n",
       "min         0.000000\n",
       "25%        24.000000\n",
       "50%        32.000000\n",
       "75%        44.000000\n",
       "max       244.000000"
      ]
     },
     "execution_count": 20,
     "metadata": {},
     "output_type": "execute_result"
    }
   ],
   "source": [
    "users_df.describe()"
   ]
  },
  {
   "cell_type": "code",
   "execution_count": 21,
   "id": "08e40a88-c9fd-4505-a354-6810ddf3aaec",
   "metadata": {},
   "outputs": [
    {
     "data": {
      "text/html": [
       "<div>\n",
       "<style scoped>\n",
       "    .dataframe tbody tr th:only-of-type {\n",
       "        vertical-align: middle;\n",
       "    }\n",
       "\n",
       "    .dataframe tbody tr th {\n",
       "        vertical-align: top;\n",
       "    }\n",
       "\n",
       "    .dataframe thead th {\n",
       "        text-align: right;\n",
       "    }\n",
       "</style>\n",
       "<table border=\"1\" class=\"dataframe\">\n",
       "  <thead>\n",
       "    <tr style=\"text-align: right;\">\n",
       "      <th></th>\n",
       "      <th>Age</th>\n",
       "    </tr>\n",
       "  </thead>\n",
       "  <tbody>\n",
       "    <tr>\n",
       "      <th>count</th>\n",
       "      <td>167680.000000</td>\n",
       "    </tr>\n",
       "    <tr>\n",
       "      <th>mean</th>\n",
       "      <td>34.837649</td>\n",
       "    </tr>\n",
       "    <tr>\n",
       "      <th>std</th>\n",
       "      <td>14.341649</td>\n",
       "    </tr>\n",
       "    <tr>\n",
       "      <th>min</th>\n",
       "      <td>1.000000</td>\n",
       "    </tr>\n",
       "    <tr>\n",
       "      <th>25%</th>\n",
       "      <td>24.000000</td>\n",
       "    </tr>\n",
       "    <tr>\n",
       "      <th>50%</th>\n",
       "      <td>32.000000</td>\n",
       "    </tr>\n",
       "    <tr>\n",
       "      <th>75%</th>\n",
       "      <td>44.000000</td>\n",
       "    </tr>\n",
       "    <tr>\n",
       "      <th>max</th>\n",
       "      <td>244.000000</td>\n",
       "    </tr>\n",
       "  </tbody>\n",
       "</table>\n",
       "</div>"
      ],
      "text/plain": [
       "                 Age\n",
       "count  167680.000000\n",
       "mean       34.837649\n",
       "std        14.341649\n",
       "min         1.000000\n",
       "25%        24.000000\n",
       "50%        32.000000\n",
       "75%        44.000000\n",
       "max       244.000000"
      ]
     },
     "execution_count": 21,
     "metadata": {},
     "output_type": "execute_result"
    }
   ],
   "source": [
    "# statistics are affected by NaN values\n",
    "users_df[users_df['Age'] > 0].describe()"
   ]
  },
  {
   "cell_type": "code",
   "execution_count": 22,
   "id": "7c14e5b7-6059-4cc0-9875-b4307bb5d301",
   "metadata": {},
   "outputs": [
    {
     "data": {
      "text/plain": [
       "user_id          0\n",
       "Location         1\n",
       "Age         110763\n",
       "dtype: int64"
      ]
     },
     "execution_count": 22,
     "metadata": {},
     "output_type": "execute_result"
    }
   ],
   "source": [
    "users_df.isna().sum()"
   ]
  },
  {
   "cell_type": "code",
   "execution_count": 23,
   "id": "93cb45c7-4534-493a-bf92-80c039d19654",
   "metadata": {},
   "outputs": [
    {
     "data": {
      "text/plain": [
       "110763"
      ]
     },
     "execution_count": 23,
     "metadata": {},
     "output_type": "execute_result"
    }
   ],
   "source": [
    "users_df['Age'].isna().sum()"
   ]
  },
  {
   "cell_type": "code",
   "execution_count": 24,
   "id": "ee603f75-57db-4982-85bc-1e9d5014abb0",
   "metadata": {},
   "outputs": [
    {
     "name": "stdout",
     "output_type": "stream",
     "text": [
      "39.72 % of Age values are NaN\n"
     ]
    }
   ],
   "source": [
    "print(\"{:.2f} % of Age values are NaN\".format(users_df['Age'].isna().sum()/users_df.shape[0]*100))"
   ]
  },
  {
   "cell_type": "code",
   "execution_count": 25,
   "id": "c3dca4df-faa3-4476-92b2-f98ca05148e7",
   "metadata": {},
   "outputs": [
    {
     "data": {
      "image/png": "[encoded data removed]",
      "text/plain": [
       "<Figure size 300x400 with 1 Axes>"
      ]
     },
     "metadata": {},
     "output_type": "display_data"
    }
   ],
   "source": [
    "users_df['Age'].hist(figsize=(3,4),bins=30, color='lightblue', edgecolor='black')\n",
    "plt.show()"
   ]
  },
  {
   "cell_type": "code",
   "execution_count": 26,
   "id": "40938dbc-3189-43d1-826d-90d6e2356324",
   "metadata": {},
   "outputs": [
    {
     "data": {
      "text/plain": [
       "user_id     0\n",
       "Location    0\n",
       "Age         0\n",
       "dtype: int64"
      ]
     },
     "execution_count": 26,
     "metadata": {},
     "output_type": "execute_result"
    }
   ],
   "source": [
    "# If the age is imputed with mean value, it will impact significantly to the distribution of age.\n",
    "# so, impute age with zero value.\n",
    "# Impute the NaN value of Location with mode\n",
    "\n",
    "users_df['Age']=users_df['Age'].fillna(value=0)\n",
    "# Change type of Age to int16\n",
    "users_df['Age']=users_df['Age'].astype('int16', copy=True)\n",
    "# impute the NaN value of Location with mode\n",
    "users_df['Location'].replace(to_replace=np.NaN, value=users_df['Location'].mode()[0], inplace=True)\n",
    "users_df.isna().sum()"
   ]
  },
  {
   "cell_type": "markdown",
   "id": "7618a43a-5825-466f-a506-cd8307b23d4e",
   "metadata": {},
   "source": [
    "### Merger user, rating, and books files"
   ]
  },
  {
   "cell_type": "code",
   "execution_count": 27,
   "id": "79488896-fe7c-4095-8903-03cf24ca525d",
   "metadata": {},
   "outputs": [
    {
     "data": {
      "text/html": [
       "<div>\n",
       "<style scoped>\n",
       "    .dataframe tbody tr th:only-of-type {\n",
       "        vertical-align: middle;\n",
       "    }\n",
       "\n",
       "    .dataframe tbody tr th {\n",
       "        vertical-align: top;\n",
       "    }\n",
       "\n",
       "    .dataframe thead th {\n",
       "        text-align: right;\n",
       "    }\n",
       "</style>\n",
       "<table border=\"1\" class=\"dataframe\">\n",
       "  <thead>\n",
       "    <tr style=\"text-align: right;\">\n",
       "      <th></th>\n",
       "      <th>user_id</th>\n",
       "      <th>Location</th>\n",
       "      <th>Age</th>\n",
       "      <th>isbn</th>\n",
       "      <th>rating</th>\n",
       "    </tr>\n",
       "  </thead>\n",
       "  <tbody>\n",
       "    <tr>\n",
       "      <th>0</th>\n",
       "      <td>2</td>\n",
       "      <td>stockton, california, usa</td>\n",
       "      <td>18</td>\n",
       "      <td>195153448</td>\n",
       "      <td>0</td>\n",
       "    </tr>\n",
       "    <tr>\n",
       "      <th>1</th>\n",
       "      <td>7</td>\n",
       "      <td>washington, dc, usa</td>\n",
       "      <td>0</td>\n",
       "      <td>34542252</td>\n",
       "      <td>0</td>\n",
       "    </tr>\n",
       "    <tr>\n",
       "      <th>2</th>\n",
       "      <td>8</td>\n",
       "      <td>timmins, ontario, canada</td>\n",
       "      <td>0</td>\n",
       "      <td>2005018</td>\n",
       "      <td>5</td>\n",
       "    </tr>\n",
       "    <tr>\n",
       "      <th>3</th>\n",
       "      <td>8</td>\n",
       "      <td>timmins, ontario, canada</td>\n",
       "      <td>0</td>\n",
       "      <td>60973129</td>\n",
       "      <td>0</td>\n",
       "    </tr>\n",
       "    <tr>\n",
       "      <th>4</th>\n",
       "      <td>8</td>\n",
       "      <td>timmins, ontario, canada</td>\n",
       "      <td>0</td>\n",
       "      <td>374157065</td>\n",
       "      <td>0</td>\n",
       "    </tr>\n",
       "  </tbody>\n",
       "</table>\n",
       "</div>"
      ],
      "text/plain": [
       "  user_id                   Location  Age       isbn  rating\n",
       "0       2  stockton, california, usa   18  195153448       0\n",
       "1       7        washington, dc, usa    0   34542252       0\n",
       "2       8   timmins, ontario, canada    0    2005018       5\n",
       "3       8   timmins, ontario, canada    0   60973129       0\n",
       "4       8   timmins, ontario, canada    0  374157065       0"
      ]
     },
     "execution_count": 27,
     "metadata": {},
     "output_type": "execute_result"
    }
   ],
   "source": [
    "df = pd.merge(users_df, rating_df, on='user_id')\n",
    "df.head()"
   ]
  },
  {
   "cell_type": "code",
   "execution_count": 28,
   "id": "49d75f6d-d710-44b0-96f6-d222b88e6107",
   "metadata": {},
   "outputs": [
    {
     "data": {
      "text/html": [
       "<div>\n",
       "<style scoped>\n",
       "    .dataframe tbody tr th:only-of-type {\n",
       "        vertical-align: middle;\n",
       "    }\n",
       "\n",
       "    .dataframe tbody tr th {\n",
       "        vertical-align: top;\n",
       "    }\n",
       "\n",
       "    .dataframe thead th {\n",
       "        text-align: right;\n",
       "    }\n",
       "</style>\n",
       "<table border=\"1\" class=\"dataframe\">\n",
       "  <thead>\n",
       "    <tr style=\"text-align: right;\">\n",
       "      <th></th>\n",
       "      <th>user_id</th>\n",
       "      <th>Location</th>\n",
       "      <th>Age</th>\n",
       "      <th>isbn</th>\n",
       "      <th>rating</th>\n",
       "      <th>book_title</th>\n",
       "      <th>book_author</th>\n",
       "      <th>year_of_publication</th>\n",
       "      <th>publisher</th>\n",
       "    </tr>\n",
       "  </thead>\n",
       "  <tbody>\n",
       "    <tr>\n",
       "      <th>0</th>\n",
       "      <td>2</td>\n",
       "      <td>stockton, california, usa</td>\n",
       "      <td>18</td>\n",
       "      <td>195153448</td>\n",
       "      <td>0</td>\n",
       "      <td>Classical Mythology</td>\n",
       "      <td>Mark P. O. Morford</td>\n",
       "      <td>2002</td>\n",
       "      <td>Oxford University Press</td>\n",
       "    </tr>\n",
       "    <tr>\n",
       "      <th>1</th>\n",
       "      <td>8</td>\n",
       "      <td>timmins, ontario, canada</td>\n",
       "      <td>0</td>\n",
       "      <td>2005018</td>\n",
       "      <td>5</td>\n",
       "      <td>Clara Callan</td>\n",
       "      <td>Richard Bruce Wright</td>\n",
       "      <td>2001</td>\n",
       "      <td>HarperFlamingo Canada</td>\n",
       "    </tr>\n",
       "    <tr>\n",
       "      <th>2</th>\n",
       "      <td>8</td>\n",
       "      <td>timmins, ontario, canada</td>\n",
       "      <td>0</td>\n",
       "      <td>60973129</td>\n",
       "      <td>0</td>\n",
       "      <td>Decision in Normandy</td>\n",
       "      <td>Carlo D'Este</td>\n",
       "      <td>1991</td>\n",
       "      <td>HarperPerennial</td>\n",
       "    </tr>\n",
       "    <tr>\n",
       "      <th>3</th>\n",
       "      <td>2954</td>\n",
       "      <td>wichita, kansas, usa</td>\n",
       "      <td>71</td>\n",
       "      <td>60973129</td>\n",
       "      <td>8</td>\n",
       "      <td>Decision in Normandy</td>\n",
       "      <td>Carlo D'Este</td>\n",
       "      <td>1991</td>\n",
       "      <td>HarperPerennial</td>\n",
       "    </tr>\n",
       "    <tr>\n",
       "      <th>4</th>\n",
       "      <td>8</td>\n",
       "      <td>timmins, ontario, canada</td>\n",
       "      <td>0</td>\n",
       "      <td>374157065</td>\n",
       "      <td>0</td>\n",
       "      <td>Flu: The Story of the Great Influenza Pandemic...</td>\n",
       "      <td>Gina Bari Kolata</td>\n",
       "      <td>1999</td>\n",
       "      <td>Farrar Straus Giroux</td>\n",
       "    </tr>\n",
       "  </tbody>\n",
       "</table>\n",
       "</div>"
      ],
      "text/plain": [
       "  user_id                   Location  Age       isbn  rating  \\\n",
       "0       2  stockton, california, usa   18  195153448       0   \n",
       "1       8   timmins, ontario, canada    0    2005018       5   \n",
       "2       8   timmins, ontario, canada    0   60973129       0   \n",
       "3    2954       wichita, kansas, usa   71   60973129       8   \n",
       "4       8   timmins, ontario, canada    0  374157065       0   \n",
       "\n",
       "                                          book_title           book_author  \\\n",
       "0                                Classical Mythology    Mark P. O. Morford   \n",
       "1                                       Clara Callan  Richard Bruce Wright   \n",
       "2                               Decision in Normandy          Carlo D'Este   \n",
       "3                               Decision in Normandy          Carlo D'Este   \n",
       "4  Flu: The Story of the Great Influenza Pandemic...      Gina Bari Kolata   \n",
       "\n",
       "  year_of_publication                publisher  \n",
       "0                2002  Oxford University Press  \n",
       "1                2001    HarperFlamingo Canada  \n",
       "2                1991          HarperPerennial  \n",
       "3                1991          HarperPerennial  \n",
       "4                1999     Farrar Straus Giroux  "
      ]
     },
     "execution_count": 28,
     "metadata": {},
     "output_type": "execute_result"
    }
   ],
   "source": [
    "df = pd.merge(df, books_df, on='isbn')\n",
    "df.head()"
   ]
  },
  {
   "cell_type": "code",
   "execution_count": 29,
   "id": "94d118c4-a3ec-41ff-a56c-4f01d6d85cde",
   "metadata": {},
   "outputs": [
    {
     "data": {
      "text/plain": [
       "user_id                0\n",
       "Location               0\n",
       "Age                    0\n",
       "isbn                   0\n",
       "rating                 0\n",
       "book_title             0\n",
       "book_author            0\n",
       "year_of_publication    0\n",
       "publisher              0\n",
       "dtype: int64"
      ]
     },
     "execution_count": 29,
     "metadata": {},
     "output_type": "execute_result"
    }
   ],
   "source": [
    "df.isna().sum()"
   ]
  },
  {
   "cell_type": "code",
   "execution_count": 30,
   "id": "bf4816f2-66de-4a63-86bd-55f0a8dc8b95",
   "metadata": {},
   "outputs": [
    {
     "name": "stdout",
     "output_type": "stream",
     "text": [
      "<class 'pandas.core.frame.DataFrame'>\n",
      "RangeIndex: 8853 entries, 0 to 8852\n",
      "Data columns (total 9 columns):\n",
      " #   Column               Non-Null Count  Dtype \n",
      "---  ------               --------------  ----- \n",
      " 0   user_id              8853 non-null   object\n",
      " 1   Location             8853 non-null   object\n",
      " 2   Age                  8853 non-null   int16 \n",
      " 3   isbn                 8853 non-null   object\n",
      " 4   rating               8853 non-null   int64 \n",
      " 5   book_title           8853 non-null   object\n",
      " 6   book_author          8853 non-null   object\n",
      " 7   year_of_publication  8853 non-null   object\n",
      " 8   publisher            8853 non-null   object\n",
      "dtypes: int16(1), int64(1), object(7)\n",
      "memory usage: 570.7+ KB\n"
     ]
    }
   ],
   "source": [
    "df.info()"
   ]
  },
  {
   "cell_type": "code",
   "execution_count": 31,
   "id": "fb319639-4798-412e-b5f6-e977c7183442",
   "metadata": {},
   "outputs": [
    {
     "name": "stdout",
     "output_type": "stream",
     "text": [
      "Number of Users: 1164\n",
      "Number of Books: 7620\n"
     ]
    }
   ],
   "source": [
    "# Code for checking number of unique users and books. \n",
    "n_users = df.user_id.nunique()\n",
    "n_books = df.isbn.nunique()\n",
    "\n",
    "print('Number of Users: '+ str(n_users))\n",
    "print('Number of Books: '+ str(n_books))"
   ]
  },
  {
   "cell_type": "markdown",
   "id": "31894671-bb50-4e7d-bf0d-9b9ad867b7f8",
   "metadata": {},
   "source": [
    "### Convert ISBN to numeric numbers in the correct order"
   ]
  },
  {
   "cell_type": "code",
   "execution_count": 32,
   "id": "977bc13a-8459-4377-914d-1025c9ffa75e",
   "metadata": {},
   "outputs": [
    {
     "name": "stdout",
     "output_type": "stream",
     "text": [
      " Length of isbn List: 7620\n"
     ]
    }
   ],
   "source": [
    "# Convert and print length of isbn list\n",
    "isbn_list = df.isbn.unique()\n",
    "print(\" Length of isbn List:\", len(isbn_list))\n",
    "def get_isbn_numeric_id(isbn):\n",
    "    itemindex = np.where(isbn_list==isbn)\n",
    "    return itemindex[0][0]"
   ]
  },
  {
   "cell_type": "markdown",
   "id": "02f0fcbd-174f-44a1-99b5-a14b0fcbfaa3",
   "metadata": {},
   "source": [
    "### Convert user_id into numeric numbers in the correct order"
   ]
  },
  {
   "cell_type": "code",
   "execution_count": 33,
   "id": "afb4eaa6-db17-4f41-a494-5301f0e72a49",
   "metadata": {},
   "outputs": [
    {
     "name": "stdout",
     "output_type": "stream",
     "text": [
      " Length of user List: 1164\n"
     ]
    }
   ],
   "source": [
    "# Convert and print length of user list\n",
    "userid_list = df.user_id.unique()\n",
    "print(\" Length of user List:\", len(userid_list))\n",
    "def get_userid_numeric_id(user_id):\n",
    "    itemindex = np.where(userid_list==user_id)\n",
    "    return itemindex[0][0]"
   ]
  },
  {
   "cell_type": "markdown",
   "id": "c9bc51da-d48c-4eac-8db2-30a8b0c70beb",
   "metadata": {},
   "source": [
    "### Convert both user_id and isbn to ordered list, from 0...n-1"
   ]
  },
  {
   "cell_type": "code",
   "execution_count": 34,
   "id": "a1402c6a-0229-4476-bf6f-f44b18eb7096",
   "metadata": {},
   "outputs": [],
   "source": [
    "df['new_isbn'] = df['isbn'].apply(get_isbn_numeric_id)"
   ]
  },
  {
   "cell_type": "code",
   "execution_count": 35,
   "id": "f12a3bf0-95e3-4d06-9e64-f1aa91f32bcd",
   "metadata": {},
   "outputs": [
    {
     "data": {
      "text/html": [
       "<div>\n",
       "<style scoped>\n",
       "    .dataframe tbody tr th:only-of-type {\n",
       "        vertical-align: middle;\n",
       "    }\n",
       "\n",
       "    .dataframe tbody tr th {\n",
       "        vertical-align: top;\n",
       "    }\n",
       "\n",
       "    .dataframe thead th {\n",
       "        text-align: right;\n",
       "    }\n",
       "</style>\n",
       "<table border=\"1\" class=\"dataframe\">\n",
       "  <thead>\n",
       "    <tr style=\"text-align: right;\">\n",
       "      <th></th>\n",
       "      <th>user_id</th>\n",
       "      <th>Location</th>\n",
       "      <th>Age</th>\n",
       "      <th>isbn</th>\n",
       "      <th>rating</th>\n",
       "      <th>book_title</th>\n",
       "      <th>book_author</th>\n",
       "      <th>year_of_publication</th>\n",
       "      <th>publisher</th>\n",
       "      <th>new_isbn</th>\n",
       "      <th>new_user_id</th>\n",
       "    </tr>\n",
       "  </thead>\n",
       "  <tbody>\n",
       "    <tr>\n",
       "      <th>0</th>\n",
       "      <td>2</td>\n",
       "      <td>stockton, california, usa</td>\n",
       "      <td>18</td>\n",
       "      <td>195153448</td>\n",
       "      <td>0</td>\n",
       "      <td>Classical Mythology</td>\n",
       "      <td>Mark P. O. Morford</td>\n",
       "      <td>2002</td>\n",
       "      <td>Oxford University Press</td>\n",
       "      <td>0</td>\n",
       "      <td>0</td>\n",
       "    </tr>\n",
       "    <tr>\n",
       "      <th>1</th>\n",
       "      <td>8</td>\n",
       "      <td>timmins, ontario, canada</td>\n",
       "      <td>0</td>\n",
       "      <td>2005018</td>\n",
       "      <td>5</td>\n",
       "      <td>Clara Callan</td>\n",
       "      <td>Richard Bruce Wright</td>\n",
       "      <td>2001</td>\n",
       "      <td>HarperFlamingo Canada</td>\n",
       "      <td>1</td>\n",
       "      <td>1</td>\n",
       "    </tr>\n",
       "    <tr>\n",
       "      <th>2</th>\n",
       "      <td>8</td>\n",
       "      <td>timmins, ontario, canada</td>\n",
       "      <td>0</td>\n",
       "      <td>60973129</td>\n",
       "      <td>0</td>\n",
       "      <td>Decision in Normandy</td>\n",
       "      <td>Carlo D'Este</td>\n",
       "      <td>1991</td>\n",
       "      <td>HarperPerennial</td>\n",
       "      <td>2</td>\n",
       "      <td>1</td>\n",
       "    </tr>\n",
       "    <tr>\n",
       "      <th>3</th>\n",
       "      <td>2954</td>\n",
       "      <td>wichita, kansas, usa</td>\n",
       "      <td>71</td>\n",
       "      <td>60973129</td>\n",
       "      <td>8</td>\n",
       "      <td>Decision in Normandy</td>\n",
       "      <td>Carlo D'Este</td>\n",
       "      <td>1991</td>\n",
       "      <td>HarperPerennial</td>\n",
       "      <td>2</td>\n",
       "      <td>2</td>\n",
       "    </tr>\n",
       "    <tr>\n",
       "      <th>4</th>\n",
       "      <td>8</td>\n",
       "      <td>timmins, ontario, canada</td>\n",
       "      <td>0</td>\n",
       "      <td>374157065</td>\n",
       "      <td>0</td>\n",
       "      <td>Flu: The Story of the Great Influenza Pandemic...</td>\n",
       "      <td>Gina Bari Kolata</td>\n",
       "      <td>1999</td>\n",
       "      <td>Farrar Straus Giroux</td>\n",
       "      <td>3</td>\n",
       "      <td>1</td>\n",
       "    </tr>\n",
       "  </tbody>\n",
       "</table>\n",
       "</div>"
      ],
      "text/plain": [
       "  user_id                   Location  Age       isbn  rating  \\\n",
       "0       2  stockton, california, usa   18  195153448       0   \n",
       "1       8   timmins, ontario, canada    0    2005018       5   \n",
       "2       8   timmins, ontario, canada    0   60973129       0   \n",
       "3    2954       wichita, kansas, usa   71   60973129       8   \n",
       "4       8   timmins, ontario, canada    0  374157065       0   \n",
       "\n",
       "                                          book_title           book_author  \\\n",
       "0                                Classical Mythology    Mark P. O. Morford   \n",
       "1                                       Clara Callan  Richard Bruce Wright   \n",
       "2                               Decision in Normandy          Carlo D'Este   \n",
       "3                               Decision in Normandy          Carlo D'Este   \n",
       "4  Flu: The Story of the Great Influenza Pandemic...      Gina Bari Kolata   \n",
       "\n",
       "  year_of_publication                publisher  new_isbn  new_user_id  \n",
       "0                2002  Oxford University Press         0            0  \n",
       "1                2001    HarperFlamingo Canada         1            1  \n",
       "2                1991          HarperPerennial         2            1  \n",
       "3                1991          HarperPerennial         2            2  \n",
       "4                1999     Farrar Straus Giroux         3            1  "
      ]
     },
     "execution_count": 35,
     "metadata": {},
     "output_type": "execute_result"
    }
   ],
   "source": [
    "df['new_user_id'] = df['user_id'].apply(get_userid_numeric_id)\n",
    "df.head()"
   ]
  },
  {
   "cell_type": "markdown",
   "id": "db70c2a8-cfd9-4f5c-a3db-cdec8f05e51e",
   "metadata": {},
   "source": [
    "### Re-index columns to build matrix"
   ]
  },
  {
   "cell_type": "code",
   "execution_count": 36,
   "id": "99640ad2-1fbb-452d-b3bf-817e3a689984",
   "metadata": {},
   "outputs": [
    {
     "data": {
      "text/html": [
       "<div>\n",
       "<style scoped>\n",
       "    .dataframe tbody tr th:only-of-type {\n",
       "        vertical-align: middle;\n",
       "    }\n",
       "\n",
       "    .dataframe tbody tr th {\n",
       "        vertical-align: top;\n",
       "    }\n",
       "\n",
       "    .dataframe thead th {\n",
       "        text-align: right;\n",
       "    }\n",
       "</style>\n",
       "<table border=\"1\" class=\"dataframe\">\n",
       "  <thead>\n",
       "    <tr style=\"text-align: right;\">\n",
       "      <th></th>\n",
       "      <th>new_user_id</th>\n",
       "      <th>new_isbn</th>\n",
       "      <th>rating</th>\n",
       "      <th>book_title</th>\n",
       "      <th>book_author</th>\n",
       "      <th>year_of_publication</th>\n",
       "      <th>publisher</th>\n",
       "      <th>isbn</th>\n",
       "      <th>user_id</th>\n",
       "    </tr>\n",
       "  </thead>\n",
       "  <tbody>\n",
       "    <tr>\n",
       "      <th>0</th>\n",
       "      <td>0</td>\n",
       "      <td>0</td>\n",
       "      <td>0</td>\n",
       "      <td>Classical Mythology</td>\n",
       "      <td>Mark P. O. Morford</td>\n",
       "      <td>2002</td>\n",
       "      <td>Oxford University Press</td>\n",
       "      <td>195153448</td>\n",
       "      <td>2</td>\n",
       "    </tr>\n",
       "    <tr>\n",
       "      <th>1</th>\n",
       "      <td>1</td>\n",
       "      <td>1</td>\n",
       "      <td>5</td>\n",
       "      <td>Clara Callan</td>\n",
       "      <td>Richard Bruce Wright</td>\n",
       "      <td>2001</td>\n",
       "      <td>HarperFlamingo Canada</td>\n",
       "      <td>2005018</td>\n",
       "      <td>8</td>\n",
       "    </tr>\n",
       "    <tr>\n",
       "      <th>2</th>\n",
       "      <td>1</td>\n",
       "      <td>2</td>\n",
       "      <td>0</td>\n",
       "      <td>Decision in Normandy</td>\n",
       "      <td>Carlo D'Este</td>\n",
       "      <td>1991</td>\n",
       "      <td>HarperPerennial</td>\n",
       "      <td>60973129</td>\n",
       "      <td>8</td>\n",
       "    </tr>\n",
       "    <tr>\n",
       "      <th>3</th>\n",
       "      <td>2</td>\n",
       "      <td>2</td>\n",
       "      <td>8</td>\n",
       "      <td>Decision in Normandy</td>\n",
       "      <td>Carlo D'Este</td>\n",
       "      <td>1991</td>\n",
       "      <td>HarperPerennial</td>\n",
       "      <td>60973129</td>\n",
       "      <td>2954</td>\n",
       "    </tr>\n",
       "    <tr>\n",
       "      <th>4</th>\n",
       "      <td>1</td>\n",
       "      <td>3</td>\n",
       "      <td>0</td>\n",
       "      <td>Flu: The Story of the Great Influenza Pandemic...</td>\n",
       "      <td>Gina Bari Kolata</td>\n",
       "      <td>1999</td>\n",
       "      <td>Farrar Straus Giroux</td>\n",
       "      <td>374157065</td>\n",
       "      <td>8</td>\n",
       "    </tr>\n",
       "  </tbody>\n",
       "</table>\n",
       "</div>"
      ],
      "text/plain": [
       "   new_user_id  new_isbn  rating  \\\n",
       "0            0         0       0   \n",
       "1            1         1       5   \n",
       "2            1         2       0   \n",
       "3            2         2       8   \n",
       "4            1         3       0   \n",
       "\n",
       "                                          book_title           book_author  \\\n",
       "0                                Classical Mythology    Mark P. O. Morford   \n",
       "1                                       Clara Callan  Richard Bruce Wright   \n",
       "2                               Decision in Normandy          Carlo D'Este   \n",
       "3                               Decision in Normandy          Carlo D'Este   \n",
       "4  Flu: The Story of the Great Influenza Pandemic...      Gina Bari Kolata   \n",
       "\n",
       "  year_of_publication                publisher       isbn user_id  \n",
       "0                2002  Oxford University Press  195153448       2  \n",
       "1                2001    HarperFlamingo Canada    2005018       8  \n",
       "2                1991          HarperPerennial   60973129       8  \n",
       "3                1991          HarperPerennial   60973129    2954  \n",
       "4                1999     Farrar Straus Giroux  374157065       8  "
      ]
     },
     "execution_count": 36,
     "metadata": {},
     "output_type": "execute_result"
    }
   ],
   "source": [
    "#Reindexing the columns\n",
    "new_col_order = ['new_user_id', 'new_isbn', 'rating', 'book_title', 'book_author','year_of_publication','publisher','isbn','user_id']\n",
    "df = df.reindex(columns= new_col_order)\n",
    "df.head()"
   ]
  },
  {
   "cell_type": "markdown",
   "id": "18f4e0c1-d2e1-4a70-b6a1-0fd4503ee1f3",
   "metadata": {},
   "source": [
    "### Split data into training and testing dataset"
   ]
  },
  {
   "cell_type": "code",
   "execution_count": 37,
   "id": "6e414f88-2be8-4ecb-a602-b6df179779be",
   "metadata": {},
   "outputs": [],
   "source": [
    "from sklearn.model_selection import train_test_split\n",
    "\n",
    "n_users=df.new_user_id.unique().shape[0]\n",
    "n_books=df.new_isbn.unique().shape[0]\n",
    "train_data, test_data = train_test_split(df, test_size=0.25)"
   ]
  },
  {
   "cell_type": "code",
   "execution_count": 38,
   "id": "76a1cb97-250a-4e05-a7b6-6691e30c2648",
   "metadata": {},
   "outputs": [
    {
     "name": "stdout",
     "output_type": "stream",
     "text": [
      "Number of users: 1164, Number of books: 7620\n"
     ]
    }
   ],
   "source": [
    "print(\"Number of users: {:d}, Number of books: {:d}\".format(n_users, n_books))"
   ]
  },
  {
   "cell_type": "code",
   "execution_count": 39,
   "id": "dcd4bfbb-8d9e-430a-9f84-803d19030ba7",
   "metadata": {},
   "outputs": [
    {
     "data": {
      "text/plain": [
       "array([[5., 0., 0., ..., 0., 0., 0.],\n",
       "       [0., 8., 0., ..., 0., 0., 0.],\n",
       "       [0., 0., 0., ..., 0., 0., 0.],\n",
       "       [0., 0., 0., ..., 0., 0., 0.],\n",
       "       [0., 0., 0., ..., 0., 0., 0.]])"
      ]
     },
     "execution_count": 39,
     "metadata": {},
     "output_type": "execute_result"
    }
   ],
   "source": [
    "train_data_matrix=np.zeros((n_users, n_books))\n",
    "for line in train_data.itertuples() :\n",
    "    train_data_matrix[line[1]-1, line[2]-1]=line[3]\n",
    "train_data_matrix[:5]"
   ]
  },
  {
   "cell_type": "code",
   "execution_count": 40,
   "id": "633358ce-24b2-4a3e-b0ca-7367327cbb8f",
   "metadata": {},
   "outputs": [
    {
     "data": {
      "text/plain": [
       "(1164, 7620)"
      ]
     },
     "execution_count": 40,
     "metadata": {},
     "output_type": "execute_result"
    }
   ],
   "source": [
    "train_data_matrix.shape"
   ]
  },
  {
   "cell_type": "code",
   "execution_count": 41,
   "id": "fc7039a4-9407-44f5-b360-a11f8f965706",
   "metadata": {},
   "outputs": [
    {
     "data": {
      "text/plain": [
       "array([[0., 0., 0., ..., 0., 0., 0.],\n",
       "       [0., 0., 0., ..., 0., 0., 0.],\n",
       "       [0., 0., 0., ..., 0., 0., 0.],\n",
       "       [0., 0., 0., ..., 0., 0., 0.],\n",
       "       [0., 0., 0., ..., 0., 0., 0.]])"
      ]
     },
     "execution_count": 41,
     "metadata": {},
     "output_type": "execute_result"
    }
   ],
   "source": [
    "test_data_matrix=np.zeros((n_users, n_books))\n",
    "for line in test_data.itertuples() :\n",
    "    test_data_matrix[line[1]-1, line[2]-1]=line[3]\n",
    "test_data_matrix[:5]"
   ]
  },
  {
   "cell_type": "code",
   "execution_count": 42,
   "id": "e4e33ab3-7ce6-4246-82f4-5e2c0288978a",
   "metadata": {},
   "outputs": [
    {
     "data": {
      "text/plain": [
       "(1164, 7620)"
      ]
     },
     "execution_count": 42,
     "metadata": {},
     "output_type": "execute_result"
    }
   ],
   "source": [
    "test_data_matrix.shape"
   ]
  },
  {
   "cell_type": "code",
   "execution_count": 43,
   "id": "71e265f6-6431-41fa-9c92-efe608083a9f",
   "metadata": {},
   "outputs": [
    {
     "data": {
      "text/plain": [
       "array([[ 0.00028944,  0.0071682 ,  0.00028944, ...,  0.00544851,\n",
       "         0.00028944,  0.00028944],\n",
       "       [ 0.01194406,  0.00764484,  0.00764484, ...,  0.01280391,\n",
       "         0.00764484,  0.00764484],\n",
       "       [ 0.09456458,  0.09714497,  0.09026393, ...,  0.09542471,\n",
       "         0.09026393,  0.09026393],\n",
       "       [ 0.00249274,  0.005073  , -0.00180768, ...,  0.00335283,\n",
       "        -0.00180768, -0.00180768],\n",
       "       [ 0.01064235,  0.01322427,  0.00633916, ...,  0.01150299,\n",
       "         0.00633916,  0.00633916]])"
      ]
     },
     "execution_count": 43,
     "metadata": {},
     "output_type": "execute_result"
    }
   ],
   "source": [
    "# use the pairwise_distances function from sklearn to calculate the cosine similarity. \n",
    "from sklearn.metrics import pairwise_distances\n",
    "user_similarity=pairwise_distances(train_data_matrix, metric='cosine')\n",
    "book_similarity=pairwise_distances(train_data_matrix.T, metric='cosine')\n",
    "mean_user_rating=train_data_matrix.mean(axis=1)[:, np.newaxis]\n",
    "ratings_diff=(train_data_matrix-mean_user_rating)\n",
    "user_pred=mean_user_rating + user_similarity.dot(ratings_diff)/np.array([np.abs(user_similarity).sum(axis=1)]).T\n",
    "user_pred[:5]"
   ]
  },
  {
   "cell_type": "markdown",
   "id": "c6f50227-5ae1-411f-82c2-c4451a82a28e",
   "metadata": {},
   "source": [
    "### Make predictions based on user and items"
   ]
  },
  {
   "cell_type": "code",
   "execution_count": 44,
   "id": "822cf299-732e-42d2-9241-c39d58ca0762",
   "metadata": {},
   "outputs": [
    {
     "data": {
      "text/plain": [
       "array([[ 0.00028944,  0.0071682 ,  0.00028944, ...,  0.00544851,\n",
       "         0.00028944,  0.00028944],\n",
       "       [ 0.01194406,  0.00764484,  0.00764484, ...,  0.01280391,\n",
       "         0.00764484,  0.00764484],\n",
       "       [ 0.09456458,  0.09714497,  0.09026393, ...,  0.09542471,\n",
       "         0.09026393,  0.09026393],\n",
       "       [ 0.00249274,  0.005073  , -0.00180768, ...,  0.00335283,\n",
       "        -0.00180768, -0.00180768],\n",
       "       [ 0.01064235,  0.01322427,  0.00633916, ...,  0.01150299,\n",
       "         0.00633916,  0.00633916]])"
      ]
     },
     "execution_count": 44,
     "metadata": {},
     "output_type": "execute_result"
    }
   ],
   "source": [
    "# predict user-based filtering\n",
    "user_pred=mean_user_rating + user_similarity.dot(ratings_diff)/np.array([np.abs(user_similarity).sum(axis=1)]).T\n",
    "user_pred[:5]"
   ]
  },
  {
   "cell_type": "code",
   "execution_count": 45,
   "id": "84e6cf14-0cc1-498e-a3be-96f7bb1943f1",
   "metadata": {},
   "outputs": [
    {
     "data": {
      "text/plain": [
       "array([[0.        , 0.00289131, 0.00288752, ..., 0.00289779, 0.00288752,\n",
       "        0.00288752],\n",
       "       [0.0102416 , 0.        , 0.01023756, ..., 0.01027397, 0.01023756,\n",
       "        0.01023756],\n",
       "       [0.09283088, 0.09291628, 0.09279433, ..., 0.09312434, 0.09279433,\n",
       "        0.09279433],\n",
       "       [0.00078782, 0.00078854, 0.0007875 , ..., 0.00079031, 0.0007875 ,\n",
       "        0.0007875 ],\n",
       "       [0.00892857, 0.00893679, 0.00892506, ..., 0.0089568 , 0.00892506,\n",
       "        0.00892506]])"
      ]
     },
     "execution_count": 45,
     "metadata": {},
     "output_type": "execute_result"
    }
   ],
   "source": [
    "# predict item-based filtering\n",
    "book_pred = train_data_matrix.dot(book_similarity) / np.array([np.abs(book_similarity).sum(axis=1)])\n",
    "book_pred[:5]"
   ]
  },
  {
   "cell_type": "markdown",
   "id": "14b24ce1-140f-4f29-a57b-cbf22c6594a7",
   "metadata": {},
   "source": [
    "### Use RSME to evaluate the prediction"
   ]
  },
  {
   "cell_type": "code",
   "execution_count": 46,
   "id": "56fa721d-008c-4c08-95c4-29d0dc9ace9d",
   "metadata": {},
   "outputs": [],
   "source": [
    "# Import RMSE function \n",
    "from sklearn.metrics import mean_squared_error\n",
    "from math import sqrt\n",
    "\n",
    "# Defining custom function to filter out elements with ground_truth.nonzero\n",
    "def rmse(prediction, ground_truth):\n",
    "    prediction = prediction[ground_truth.nonzero()].flatten() \n",
    "    ground_truth = ground_truth[ground_truth.nonzero()].flatten()\n",
    "    return sqrt(mean_squared_error(prediction, ground_truth))"
   ]
  },
  {
   "cell_type": "code",
   "execution_count": 47,
   "id": "f108a589-125f-48b2-a8e5-b913012d50d7",
   "metadata": {},
   "outputs": [
    {
     "name": "stdout",
     "output_type": "stream",
     "text": [
      "User-based Collaboration Filtering RMSE : 7.90\n",
      "Item-based Collaboration Filtering RMSE : 7.90\n"
     ]
    }
   ],
   "source": [
    "print(\"User-based Collaboration Filtering RMSE : {:.2f}\".format(rmse(user_pred, test_data_matrix)))\n",
    "print(\"Item-based Collaboration Filtering RMSE : {:.2f}\".format(rmse(book_pred, test_data_matrix)))     "
   ]
  },
  {
   "cell_type": "markdown",
   "id": "e1aef0d6-9b47-4c7b-8e87-f9d05669c318",
   "metadata": {},
   "source": [
    "I got same result for both approach\n",
    "\n",
    "\n",
    "Code source : Sun Young Kim\n",
    "\r\n",
    "License : BSD 3 clause"
   ]
  }
 ],
 "metadata": {
  "kernelspec": {
   "display_name": "Python 3 (ipykernel)",
   "language": "python",
   "name": "python3"
  },
  "language_info": {
   "codemirror_mode": {
    "name": "ipython",
    "version": 3
   },
   "file_extension": ".py",
   "mimetype": "text/x-python",
   "name": "python",
   "nbconvert_exporter": "python",
   "pygments_lexer": "ipython3",
   "version": "3.12.0"
  }
 },
 "nbformat": 4,
 "nbformat_minor": 5
}
