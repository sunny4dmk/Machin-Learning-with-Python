{
 "cells": [
  {
   "cell_type": "markdown",
   "id": "1004436b",
   "metadata": {},
   "source": [
    "### Mercedes-Benz Greener Manufacturing\n",
    "\n",
    "The goal of this project is to reduce the time that cars spend on the test bench. Others will work with a dataset representing different permutations of features in a Mercedes-Benz car to predict the time it takes to pass testing. Optimal algorithms will contribute to faster testing, resulting in lower carbon dioxide emissions without reducing Mercedes-Benz’s standards.\n",
    "\n",
    "### Steps to be performed:\n",
    "\n",
    "1. For any column(s), if the variance is equal to zero, then remove those variable(s).\n",
    "2. Check for null and unique values for test and train sets.\n",
    "3. Apply label encoder.\n",
    "4. Perform dimensionality reduction.\n",
    "5. split train and test dataset\n",
    "##### 6. Use RandomizedSearchCV and GridSearchCV for hyperparameter tunning.\n",
    "##### 7. Perform k-fold validation.\n",
    "##### 8. Prediction on test dataset using XGBoost.\n",
    "##### 9. Plot actual target values of train dataset and predicted target values of test dataset.\n",
    "##### 10. Plot feature importance."
   ]
  },
  {
   "cell_type": "markdown",
   "id": "17fb1150-c0ef-483f-98da-0ba16b679eb5",
   "metadata": {},
   "source": [
    "### 1. If for any column(s), the variance is equal to zero, then remove those variable(s)."
   ]
  },
  {
   "cell_type": "code",
   "execution_count": 540,
   "id": "0c658743",
   "metadata": {},
   "outputs": [],
   "source": [
    "import pandas as pd\n",
    "import matplotlib.pyplot as plt\n",
    "import seaborn as sns\n",
    "import numpy as np\n",
    "import warnings\n",
    "\n",
    "warnings.filterwarnings('ignore')\n",
    "\n",
    "train_data_file = 'Data\\\\train.csv'\n",
    "test_data_file = 'Data\\\\test.csv'\n",
    "train_dataset = pd.read_csv(train_data_file)\n",
    "test_dataset = pd.read_csv(test_data_file)"
   ]
  },
  {
   "cell_type": "code",
   "execution_count": 541,
   "id": "5e70b5dc",
   "metadata": {},
   "outputs": [
    {
     "data": {
      "text/html": [
       "<div>\n",
       "<style scoped>\n",
       "    .dataframe tbody tr th:only-of-type {\n",
       "        vertical-align: middle;\n",
       "    }\n",
       "\n",
       "    .dataframe tbody tr th {\n",
       "        vertical-align: top;\n",
       "    }\n",
       "\n",
       "    .dataframe thead th {\n",
       "        text-align: right;\n",
       "    }\n",
       "</style>\n",
       "<table border=\"1\" class=\"dataframe\">\n",
       "  <thead>\n",
       "    <tr style=\"text-align: right;\">\n",
       "      <th></th>\n",
       "      <th>ID</th>\n",
       "      <th>y</th>\n",
       "      <th>X0</th>\n",
       "      <th>X1</th>\n",
       "      <th>X2</th>\n",
       "      <th>X3</th>\n",
       "      <th>X4</th>\n",
       "      <th>X5</th>\n",
       "      <th>X6</th>\n",
       "      <th>X8</th>\n",
       "      <th>...</th>\n",
       "      <th>X375</th>\n",
       "      <th>X376</th>\n",
       "      <th>X377</th>\n",
       "      <th>X378</th>\n",
       "      <th>X379</th>\n",
       "      <th>X380</th>\n",
       "      <th>X382</th>\n",
       "      <th>X383</th>\n",
       "      <th>X384</th>\n",
       "      <th>X385</th>\n",
       "    </tr>\n",
       "  </thead>\n",
       "  <tbody>\n",
       "    <tr>\n",
       "      <th>0</th>\n",
       "      <td>0</td>\n",
       "      <td>130.81</td>\n",
       "      <td>k</td>\n",
       "      <td>v</td>\n",
       "      <td>at</td>\n",
       "      <td>a</td>\n",
       "      <td>d</td>\n",
       "      <td>u</td>\n",
       "      <td>j</td>\n",
       "      <td>o</td>\n",
       "      <td>...</td>\n",
       "      <td>0</td>\n",
       "      <td>0</td>\n",
       "      <td>1</td>\n",
       "      <td>0</td>\n",
       "      <td>0</td>\n",
       "      <td>0</td>\n",
       "      <td>0</td>\n",
       "      <td>0</td>\n",
       "      <td>0</td>\n",
       "      <td>0</td>\n",
       "    </tr>\n",
       "    <tr>\n",
       "      <th>1</th>\n",
       "      <td>6</td>\n",
       "      <td>88.53</td>\n",
       "      <td>k</td>\n",
       "      <td>t</td>\n",
       "      <td>av</td>\n",
       "      <td>e</td>\n",
       "      <td>d</td>\n",
       "      <td>y</td>\n",
       "      <td>l</td>\n",
       "      <td>o</td>\n",
       "      <td>...</td>\n",
       "      <td>1</td>\n",
       "      <td>0</td>\n",
       "      <td>0</td>\n",
       "      <td>0</td>\n",
       "      <td>0</td>\n",
       "      <td>0</td>\n",
       "      <td>0</td>\n",
       "      <td>0</td>\n",
       "      <td>0</td>\n",
       "      <td>0</td>\n",
       "    </tr>\n",
       "    <tr>\n",
       "      <th>2</th>\n",
       "      <td>7</td>\n",
       "      <td>76.26</td>\n",
       "      <td>az</td>\n",
       "      <td>w</td>\n",
       "      <td>n</td>\n",
       "      <td>c</td>\n",
       "      <td>d</td>\n",
       "      <td>x</td>\n",
       "      <td>j</td>\n",
       "      <td>x</td>\n",
       "      <td>...</td>\n",
       "      <td>0</td>\n",
       "      <td>0</td>\n",
       "      <td>0</td>\n",
       "      <td>0</td>\n",
       "      <td>0</td>\n",
       "      <td>0</td>\n",
       "      <td>1</td>\n",
       "      <td>0</td>\n",
       "      <td>0</td>\n",
       "      <td>0</td>\n",
       "    </tr>\n",
       "    <tr>\n",
       "      <th>3</th>\n",
       "      <td>9</td>\n",
       "      <td>80.62</td>\n",
       "      <td>az</td>\n",
       "      <td>t</td>\n",
       "      <td>n</td>\n",
       "      <td>f</td>\n",
       "      <td>d</td>\n",
       "      <td>x</td>\n",
       "      <td>l</td>\n",
       "      <td>e</td>\n",
       "      <td>...</td>\n",
       "      <td>0</td>\n",
       "      <td>0</td>\n",
       "      <td>0</td>\n",
       "      <td>0</td>\n",
       "      <td>0</td>\n",
       "      <td>0</td>\n",
       "      <td>0</td>\n",
       "      <td>0</td>\n",
       "      <td>0</td>\n",
       "      <td>0</td>\n",
       "    </tr>\n",
       "    <tr>\n",
       "      <th>4</th>\n",
       "      <td>13</td>\n",
       "      <td>78.02</td>\n",
       "      <td>az</td>\n",
       "      <td>v</td>\n",
       "      <td>n</td>\n",
       "      <td>f</td>\n",
       "      <td>d</td>\n",
       "      <td>h</td>\n",
       "      <td>d</td>\n",
       "      <td>n</td>\n",
       "      <td>...</td>\n",
       "      <td>0</td>\n",
       "      <td>0</td>\n",
       "      <td>0</td>\n",
       "      <td>0</td>\n",
       "      <td>0</td>\n",
       "      <td>0</td>\n",
       "      <td>0</td>\n",
       "      <td>0</td>\n",
       "      <td>0</td>\n",
       "      <td>0</td>\n",
       "    </tr>\n",
       "  </tbody>\n",
       "</table>\n",
       "<p>5 rows × 378 columns</p>\n",
       "</div>"
      ],
      "text/plain": [
       "   ID       y  X0 X1  X2 X3 X4 X5 X6 X8  ...  X375  X376  X377  X378  X379  \\\n",
       "0   0  130.81   k  v  at  a  d  u  j  o  ...     0     0     1     0     0   \n",
       "1   6   88.53   k  t  av  e  d  y  l  o  ...     1     0     0     0     0   \n",
       "2   7   76.26  az  w   n  c  d  x  j  x  ...     0     0     0     0     0   \n",
       "3   9   80.62  az  t   n  f  d  x  l  e  ...     0     0     0     0     0   \n",
       "4  13   78.02  az  v   n  f  d  h  d  n  ...     0     0     0     0     0   \n",
       "\n",
       "   X380  X382  X383  X384  X385  \n",
       "0     0     0     0     0     0  \n",
       "1     0     0     0     0     0  \n",
       "2     0     1     0     0     0  \n",
       "3     0     0     0     0     0  \n",
       "4     0     0     0     0     0  \n",
       "\n",
       "[5 rows x 378 columns]"
      ]
     },
     "execution_count": 541,
     "metadata": {},
     "output_type": "execute_result"
    }
   ],
   "source": [
    "train_dataset.head()"
   ]
  },
  {
   "cell_type": "code",
   "execution_count": 542,
   "id": "6ea3b488-b30e-4abe-aa81-e5488b9bb9b0",
   "metadata": {},
   "outputs": [
    {
     "data": {
      "text/html": [
       "<div>\n",
       "<style scoped>\n",
       "    .dataframe tbody tr th:only-of-type {\n",
       "        vertical-align: middle;\n",
       "    }\n",
       "\n",
       "    .dataframe tbody tr th {\n",
       "        vertical-align: top;\n",
       "    }\n",
       "\n",
       "    .dataframe thead th {\n",
       "        text-align: right;\n",
       "    }\n",
       "</style>\n",
       "<table border=\"1\" class=\"dataframe\">\n",
       "  <thead>\n",
       "    <tr style=\"text-align: right;\">\n",
       "      <th></th>\n",
       "      <th>ID</th>\n",
       "      <th>X0</th>\n",
       "      <th>X1</th>\n",
       "      <th>X2</th>\n",
       "      <th>X3</th>\n",
       "      <th>X4</th>\n",
       "      <th>X5</th>\n",
       "      <th>X6</th>\n",
       "      <th>X8</th>\n",
       "      <th>X10</th>\n",
       "      <th>...</th>\n",
       "      <th>X375</th>\n",
       "      <th>X376</th>\n",
       "      <th>X377</th>\n",
       "      <th>X378</th>\n",
       "      <th>X379</th>\n",
       "      <th>X380</th>\n",
       "      <th>X382</th>\n",
       "      <th>X383</th>\n",
       "      <th>X384</th>\n",
       "      <th>X385</th>\n",
       "    </tr>\n",
       "  </thead>\n",
       "  <tbody>\n",
       "    <tr>\n",
       "      <th>0</th>\n",
       "      <td>1</td>\n",
       "      <td>az</td>\n",
       "      <td>v</td>\n",
       "      <td>n</td>\n",
       "      <td>f</td>\n",
       "      <td>d</td>\n",
       "      <td>t</td>\n",
       "      <td>a</td>\n",
       "      <td>w</td>\n",
       "      <td>0</td>\n",
       "      <td>...</td>\n",
       "      <td>0</td>\n",
       "      <td>0</td>\n",
       "      <td>0</td>\n",
       "      <td>1</td>\n",
       "      <td>0</td>\n",
       "      <td>0</td>\n",
       "      <td>0</td>\n",
       "      <td>0</td>\n",
       "      <td>0</td>\n",
       "      <td>0</td>\n",
       "    </tr>\n",
       "    <tr>\n",
       "      <th>1</th>\n",
       "      <td>2</td>\n",
       "      <td>t</td>\n",
       "      <td>b</td>\n",
       "      <td>ai</td>\n",
       "      <td>a</td>\n",
       "      <td>d</td>\n",
       "      <td>b</td>\n",
       "      <td>g</td>\n",
       "      <td>y</td>\n",
       "      <td>0</td>\n",
       "      <td>...</td>\n",
       "      <td>0</td>\n",
       "      <td>0</td>\n",
       "      <td>1</td>\n",
       "      <td>0</td>\n",
       "      <td>0</td>\n",
       "      <td>0</td>\n",
       "      <td>0</td>\n",
       "      <td>0</td>\n",
       "      <td>0</td>\n",
       "      <td>0</td>\n",
       "    </tr>\n",
       "    <tr>\n",
       "      <th>2</th>\n",
       "      <td>3</td>\n",
       "      <td>az</td>\n",
       "      <td>v</td>\n",
       "      <td>as</td>\n",
       "      <td>f</td>\n",
       "      <td>d</td>\n",
       "      <td>a</td>\n",
       "      <td>j</td>\n",
       "      <td>j</td>\n",
       "      <td>0</td>\n",
       "      <td>...</td>\n",
       "      <td>0</td>\n",
       "      <td>0</td>\n",
       "      <td>0</td>\n",
       "      <td>1</td>\n",
       "      <td>0</td>\n",
       "      <td>0</td>\n",
       "      <td>0</td>\n",
       "      <td>0</td>\n",
       "      <td>0</td>\n",
       "      <td>0</td>\n",
       "    </tr>\n",
       "    <tr>\n",
       "      <th>3</th>\n",
       "      <td>4</td>\n",
       "      <td>az</td>\n",
       "      <td>l</td>\n",
       "      <td>n</td>\n",
       "      <td>f</td>\n",
       "      <td>d</td>\n",
       "      <td>z</td>\n",
       "      <td>l</td>\n",
       "      <td>n</td>\n",
       "      <td>0</td>\n",
       "      <td>...</td>\n",
       "      <td>0</td>\n",
       "      <td>0</td>\n",
       "      <td>0</td>\n",
       "      <td>1</td>\n",
       "      <td>0</td>\n",
       "      <td>0</td>\n",
       "      <td>0</td>\n",
       "      <td>0</td>\n",
       "      <td>0</td>\n",
       "      <td>0</td>\n",
       "    </tr>\n",
       "    <tr>\n",
       "      <th>4</th>\n",
       "      <td>5</td>\n",
       "      <td>w</td>\n",
       "      <td>s</td>\n",
       "      <td>as</td>\n",
       "      <td>c</td>\n",
       "      <td>d</td>\n",
       "      <td>y</td>\n",
       "      <td>i</td>\n",
       "      <td>m</td>\n",
       "      <td>0</td>\n",
       "      <td>...</td>\n",
       "      <td>1</td>\n",
       "      <td>0</td>\n",
       "      <td>0</td>\n",
       "      <td>0</td>\n",
       "      <td>0</td>\n",
       "      <td>0</td>\n",
       "      <td>0</td>\n",
       "      <td>0</td>\n",
       "      <td>0</td>\n",
       "      <td>0</td>\n",
       "    </tr>\n",
       "  </tbody>\n",
       "</table>\n",
       "<p>5 rows × 377 columns</p>\n",
       "</div>"
      ],
      "text/plain": [
       "   ID  X0 X1  X2 X3 X4 X5 X6 X8  X10  ...  X375  X376  X377  X378  X379  X380  \\\n",
       "0   1  az  v   n  f  d  t  a  w    0  ...     0     0     0     1     0     0   \n",
       "1   2   t  b  ai  a  d  b  g  y    0  ...     0     0     1     0     0     0   \n",
       "2   3  az  v  as  f  d  a  j  j    0  ...     0     0     0     1     0     0   \n",
       "3   4  az  l   n  f  d  z  l  n    0  ...     0     0     0     1     0     0   \n",
       "4   5   w  s  as  c  d  y  i  m    0  ...     1     0     0     0     0     0   \n",
       "\n",
       "   X382  X383  X384  X385  \n",
       "0     0     0     0     0  \n",
       "1     0     0     0     0  \n",
       "2     0     0     0     0  \n",
       "3     0     0     0     0  \n",
       "4     0     0     0     0  \n",
       "\n",
       "[5 rows x 377 columns]"
      ]
     },
     "execution_count": 542,
     "metadata": {},
     "output_type": "execute_result"
    }
   ],
   "source": [
    "test_dataset.head()"
   ]
  },
  {
   "cell_type": "code",
   "execution_count": 543,
   "id": "71741d85",
   "metadata": {},
   "outputs": [
    {
     "name": "stdout",
     "output_type": "stream",
     "text": [
      "<class 'pandas.core.frame.DataFrame'>\n",
      "RangeIndex: 4209 entries, 0 to 4208\n",
      "Columns: 378 entries, ID to X385\n",
      "dtypes: float64(1), int64(369), object(8)\n",
      "memory usage: 12.1+ MB\n"
     ]
    }
   ],
   "source": [
    "train_dataset.info()"
   ]
  },
  {
   "cell_type": "code",
   "execution_count": 544,
   "id": "83acdac1",
   "metadata": {},
   "outputs": [
    {
     "data": {
      "text/plain": [
       "ID        int64\n",
       "y       float64\n",
       "X0       object\n",
       "X1       object\n",
       "X2       object\n",
       "         ...   \n",
       "X380      int64\n",
       "X382      int64\n",
       "X383      int64\n",
       "X384      int64\n",
       "X385      int64\n",
       "Length: 378, dtype: object"
      ]
     },
     "execution_count": 544,
     "metadata": {},
     "output_type": "execute_result"
    }
   ],
   "source": [
    "train_dataset.dtypes"
   ]
  },
  {
   "cell_type": "code",
   "execution_count": 545,
   "id": "96a9def7-c402-42cf-997c-83bfa3d8733b",
   "metadata": {},
   "outputs": [
    {
     "name": "stdout",
     "output_type": "stream",
     "text": [
      "<class 'pandas.core.frame.DataFrame'>\n",
      "RangeIndex: 4209 entries, 0 to 4208\n",
      "Columns: 377 entries, ID to X385\n",
      "dtypes: int64(369), object(8)\n",
      "memory usage: 12.1+ MB\n"
     ]
    }
   ],
   "source": [
    "test_dataset.info()"
   ]
  },
  {
   "cell_type": "code",
   "execution_count": 546,
   "id": "15b5adc8-7172-4fb7-8419-e8c45b16ea99",
   "metadata": {},
   "outputs": [
    {
     "data": {
      "text/plain": [
       "ID       int64\n",
       "X0      object\n",
       "X1      object\n",
       "X2      object\n",
       "X3      object\n",
       "         ...  \n",
       "X380     int64\n",
       "X382     int64\n",
       "X383     int64\n",
       "X384     int64\n",
       "X385     int64\n",
       "Length: 377, dtype: object"
      ]
     },
     "execution_count": 546,
     "metadata": {},
     "output_type": "execute_result"
    }
   ],
   "source": [
    "test_dataset.dtypes"
   ]
  },
  {
   "cell_type": "code",
   "execution_count": 547,
   "id": "555fa05c-0b36-4ce4-b302-d4e16bdbbbb4",
   "metadata": {},
   "outputs": [
    {
     "name": "stdout",
     "output_type": "stream",
     "text": [
      "Columns with object type:  ['X0', 'X1', 'X2', 'X3', 'X4', 'X5', 'X6', 'X8']\n"
     ]
    }
   ],
   "source": [
    "# Identfy train dataset columns which are object types\n",
    "object_cols = []\n",
    "for idx in train_dataset.dtypes.index :\n",
    "    if train_dataset.dtypes[idx] == 'object' :\n",
    "        object_cols.append(idx)\n",
    "print(\"Columns with object type: \", object_cols)\n",
    "\n",
    "# Identfy columns of int or float type except for the column \"y\"\n",
    "train_numeric_cols = []\n",
    "train_numeric_cols = [col for col in train_dataset if col not in object_cols and col!='y']"
   ]
  },
  {
   "cell_type": "code",
   "execution_count": 548,
   "id": "2d5c69c6-e8ab-4dfc-8af9-d654f685ea05",
   "metadata": {},
   "outputs": [
    {
     "data": {
      "text/plain": [
       "ID       int64\n",
       "y      float64\n",
       "X0      object\n",
       "X1      object\n",
       "X2      object\n",
       "X3      object\n",
       "X4      object\n",
       "X5      object\n",
       "X6      object\n",
       "X8      object\n",
       "X10      int64\n",
       "X11      int64\n",
       "dtype: object"
      ]
     },
     "execution_count": 548,
     "metadata": {},
     "output_type": "execute_result"
    }
   ],
   "source": [
    "train_dataset.iloc[:,:12].dtypes"
   ]
  },
  {
   "cell_type": "code",
   "execution_count": 549,
   "id": "020a1404-3605-40b8-a134-fff6c421d963",
   "metadata": {},
   "outputs": [
    {
     "name": "stdout",
     "output_type": "stream",
     "text": [
      "Columns with object type:  ['X0', 'X1', 'X2', 'X3', 'X4', 'X5', 'X6', 'X8']\n"
     ]
    }
   ],
   "source": [
    "# Identfy  test dataset columns which are object types\n",
    "object_cols = []\n",
    "for idx in test_dataset.dtypes.index :\n",
    "    if test_dataset.dtypes[idx] == 'object' :\n",
    "        object_cols.append(idx)\n",
    "print(\"Columns with object type: \", object_cols)\n",
    "\n",
    "# Identfy columns of int or float type\n",
    "test_numeric_cols = []\n",
    "test_numeric_cols = [col for col in test_dataset if col not in object_cols]"
   ]
  },
  {
   "cell_type": "code",
   "execution_count": 550,
   "id": "8d9c13e5-dad9-436f-9eb9-5a3c5ba15406",
   "metadata": {},
   "outputs": [
    {
     "name": "stdout",
     "output_type": "stream",
     "text": [
      "# of columns in train dataset: 378, # of columns in test dataset: 377\n",
      "# of common object columns: 8\n",
      "# of common numeric columns: 369\n"
     ]
    }
   ],
   "source": [
    "# Identify common numeric columns between train and test dataset.\n",
    "\n",
    "common_numeric_cols = [col for col in test_dataset if col in train_numeric_cols]\n",
    "print('# of columns in train dataset: {:d}, # of columns in test dataset: {:d}'\n",
    "      .format(train_dataset.shape[1], test_dataset.shape[1]))\n",
    "print('# of common object columns: {:d}'.format(len(object_cols)))\n",
    "print('# of common numeric columns: {:d}'.format(len(common_numeric_cols)))"
   ]
  },
  {
   "cell_type": "code",
   "execution_count": 551,
   "id": "7292d1c8-82f0-4070-b8c8-3bf240620b4a",
   "metadata": {},
   "outputs": [
    {
     "data": {
      "text/plain": [
       "ID      int64\n",
       "X0     object\n",
       "X1     object\n",
       "X2     object\n",
       "X3     object\n",
       "X4     object\n",
       "X5     object\n",
       "X6     object\n",
       "X8     object\n",
       "X10     int64\n",
       "X11     int64\n",
       "X12     int64\n",
       "dtype: object"
      ]
     },
     "execution_count": 551,
     "metadata": {},
     "output_type": "execute_result"
    }
   ],
   "source": [
    "test_dataset.iloc[:,:12].dtypes"
   ]
  },
  {
   "cell_type": "code",
   "execution_count": 552,
   "id": "166003df",
   "metadata": {},
   "outputs": [],
   "source": [
    "# identify variable with 0 variance\n",
    "\n",
    "var_train_df = pd.DataFrame(np.var(train_dataset[train_numeric_cols], axis=None), columns=['variance'])"
   ]
  },
  {
   "cell_type": "code",
   "execution_count": 553,
   "id": "5442d2e1-60b1-411b-8a3e-55fb63419c6b",
   "metadata": {},
   "outputs": [
    {
     "data": {
      "text/html": [
       "<div>\n",
       "<style scoped>\n",
       "    .dataframe tbody tr th:only-of-type {\n",
       "        vertical-align: middle;\n",
       "    }\n",
       "\n",
       "    .dataframe tbody tr th {\n",
       "        vertical-align: top;\n",
       "    }\n",
       "\n",
       "    .dataframe thead th {\n",
       "        text-align: right;\n",
       "    }\n",
       "</style>\n",
       "<table border=\"1\" class=\"dataframe\">\n",
       "  <thead>\n",
       "    <tr style=\"text-align: right;\">\n",
       "      <th></th>\n",
       "      <th>variance</th>\n",
       "    </tr>\n",
       "  </thead>\n",
       "  <tbody>\n",
       "    <tr>\n",
       "      <th>X233</th>\n",
       "      <td>0.000000</td>\n",
       "    </tr>\n",
       "    <tr>\n",
       "      <th>X347</th>\n",
       "      <td>0.000000</td>\n",
       "    </tr>\n",
       "    <tr>\n",
       "      <th>X293</th>\n",
       "      <td>0.000000</td>\n",
       "    </tr>\n",
       "    <tr>\n",
       "      <th>X290</th>\n",
       "      <td>0.000000</td>\n",
       "    </tr>\n",
       "    <tr>\n",
       "      <th>X289</th>\n",
       "      <td>0.000000</td>\n",
       "    </tr>\n",
       "    <tr>\n",
       "      <th>X93</th>\n",
       "      <td>0.000000</td>\n",
       "    </tr>\n",
       "    <tr>\n",
       "      <th>X297</th>\n",
       "      <td>0.000000</td>\n",
       "    </tr>\n",
       "    <tr>\n",
       "      <th>X330</th>\n",
       "      <td>0.000000</td>\n",
       "    </tr>\n",
       "    <tr>\n",
       "      <th>X235</th>\n",
       "      <td>0.000000</td>\n",
       "    </tr>\n",
       "    <tr>\n",
       "      <th>X11</th>\n",
       "      <td>0.000000</td>\n",
       "    </tr>\n",
       "    <tr>\n",
       "      <th>X107</th>\n",
       "      <td>0.000000</td>\n",
       "    </tr>\n",
       "    <tr>\n",
       "      <th>X268</th>\n",
       "      <td>0.000000</td>\n",
       "    </tr>\n",
       "    <tr>\n",
       "      <th>X257</th>\n",
       "      <td>0.000238</td>\n",
       "    </tr>\n",
       "    <tr>\n",
       "      <th>X207</th>\n",
       "      <td>0.000238</td>\n",
       "    </tr>\n",
       "    <tr>\n",
       "      <th>X259</th>\n",
       "      <td>0.000238</td>\n",
       "    </tr>\n",
       "    <tr>\n",
       "      <th>X33</th>\n",
       "      <td>0.000238</td>\n",
       "    </tr>\n",
       "    <tr>\n",
       "      <th>X210</th>\n",
       "      <td>0.000238</td>\n",
       "    </tr>\n",
       "    <tr>\n",
       "      <th>X39</th>\n",
       "      <td>0.000238</td>\n",
       "    </tr>\n",
       "    <tr>\n",
       "      <th>X339</th>\n",
       "      <td>0.000238</td>\n",
       "    </tr>\n",
       "    <tr>\n",
       "      <th>X190</th>\n",
       "      <td>0.000238</td>\n",
       "    </tr>\n",
       "  </tbody>\n",
       "</table>\n",
       "</div>"
      ],
      "text/plain": [
       "      variance\n",
       "X233  0.000000\n",
       "X347  0.000000\n",
       "X293  0.000000\n",
       "X290  0.000000\n",
       "X289  0.000000\n",
       "X93   0.000000\n",
       "X297  0.000000\n",
       "X330  0.000000\n",
       "X235  0.000000\n",
       "X11   0.000000\n",
       "X107  0.000000\n",
       "X268  0.000000\n",
       "X257  0.000238\n",
       "X207  0.000238\n",
       "X259  0.000238\n",
       "X33   0.000238\n",
       "X210  0.000238\n",
       "X39   0.000238\n",
       "X339  0.000238\n",
       "X190  0.000238"
      ]
     },
     "execution_count": 553,
     "metadata": {},
     "output_type": "execute_result"
    }
   ],
   "source": [
    "var_train_df.sort_values(by='variance').head(20)"
   ]
  },
  {
   "cell_type": "code",
   "execution_count": 554,
   "id": "3d44f50e-6918-4af1-b068-8faa338d410f",
   "metadata": {},
   "outputs": [
    {
     "data": {
      "text/html": [
       "<div>\n",
       "<style scoped>\n",
       "    .dataframe tbody tr th:only-of-type {\n",
       "        vertical-align: middle;\n",
       "    }\n",
       "\n",
       "    .dataframe tbody tr th {\n",
       "        vertical-align: top;\n",
       "    }\n",
       "\n",
       "    .dataframe thead th {\n",
       "        text-align: right;\n",
       "    }\n",
       "</style>\n",
       "<table border=\"1\" class=\"dataframe\">\n",
       "  <thead>\n",
       "    <tr style=\"text-align: right;\">\n",
       "      <th></th>\n",
       "      <th>variance</th>\n",
       "    </tr>\n",
       "  </thead>\n",
       "  <tbody>\n",
       "    <tr>\n",
       "      <th>X369</th>\n",
       "      <td>0.000000</td>\n",
       "    </tr>\n",
       "    <tr>\n",
       "      <th>X257</th>\n",
       "      <td>0.000000</td>\n",
       "    </tr>\n",
       "    <tr>\n",
       "      <th>X295</th>\n",
       "      <td>0.000000</td>\n",
       "    </tr>\n",
       "    <tr>\n",
       "      <th>X258</th>\n",
       "      <td>0.000000</td>\n",
       "    </tr>\n",
       "    <tr>\n",
       "      <th>X296</th>\n",
       "      <td>0.000000</td>\n",
       "    </tr>\n",
       "    <tr>\n",
       "      <th>X288</th>\n",
       "      <td>0.000238</td>\n",
       "    </tr>\n",
       "    <tr>\n",
       "      <th>X290</th>\n",
       "      <td>0.000238</td>\n",
       "    </tr>\n",
       "    <tr>\n",
       "      <th>X293</th>\n",
       "      <td>0.000238</td>\n",
       "    </tr>\n",
       "    <tr>\n",
       "      <th>X210</th>\n",
       "      <td>0.000238</td>\n",
       "    </tr>\n",
       "    <tr>\n",
       "      <th>X330</th>\n",
       "      <td>0.000238</td>\n",
       "    </tr>\n",
       "  </tbody>\n",
       "</table>\n",
       "</div>"
      ],
      "text/plain": [
       "      variance\n",
       "X369  0.000000\n",
       "X257  0.000000\n",
       "X295  0.000000\n",
       "X258  0.000000\n",
       "X296  0.000000\n",
       "X288  0.000238\n",
       "X290  0.000238\n",
       "X293  0.000238\n",
       "X210  0.000238\n",
       "X330  0.000238"
      ]
     },
     "execution_count": 554,
     "metadata": {},
     "output_type": "execute_result"
    }
   ],
   "source": [
    "var_test_df = pd.DataFrame(np.var(test_dataset[test_numeric_cols], axis=None), columns=['variance'])\n",
    "var_test_df.sort_values(by='variance').head(10)"
   ]
  },
  {
   "cell_type": "code",
   "execution_count": 555,
   "id": "3051e743-1af3-4f1d-a2e0-8cfb90accb34",
   "metadata": {},
   "outputs": [],
   "source": [
    "var_train_df = var_train_df[var_train_df['variance'] == 0]\n",
    "var_test_df = var_test_df[var_test_df['variance'] == 0]"
   ]
  },
  {
   "cell_type": "code",
   "execution_count": 556,
   "id": "699a0c1a",
   "metadata": {},
   "outputs": [
    {
     "name": "stdout",
     "output_type": "stream",
     "text": [
      "Columns with 0 variance in train dataset: Index(['X11', 'X93', 'X107', 'X233', 'X235', 'X268', 'X289', 'X290', 'X293',\n",
      "       'X297', 'X330', 'X347'],\n",
      "      dtype='object')\n",
      "Column count : 12\n",
      "Columns with 0 variance in test dataset: Index(['X257', 'X258', 'X295', 'X296', 'X369'], dtype='object')\n",
      "Column count : 5\n"
     ]
    }
   ],
   "source": [
    "print(\"Columns with 0 variance in train dataset:\", var_train_df.index)\n",
    "print(\"Column count :\", var_train_df.shape[0])\n",
    "print(\"Columns with 0 variance in test dataset:\", var_test_df.index)\n",
    "print(\"Column count :\", var_test_df.shape[0])"
   ]
  },
  {
   "cell_type": "code",
   "execution_count": 557,
   "id": "1154208d-d57c-4e28-a282-36319fd51622",
   "metadata": {},
   "outputs": [],
   "source": [
    "var_z_list = []\n",
    "for x in var_train_df.index :\n",
    "    var_z_list.append(x)\n",
    "for x in var_test_df.index :\n",
    "    var_z_list.append(x)"
   ]
  },
  {
   "cell_type": "code",
   "execution_count": 558,
   "id": "3a918c17",
   "metadata": {},
   "outputs": [
    {
     "name": "stdout",
     "output_type": "stream",
     "text": [
      "Columns with 0 variance in total dataset: ['X107' 'X11' 'X233' 'X235' 'X257' 'X258' 'X268' 'X289' 'X290' 'X293'\n",
      " 'X295' 'X296' 'X297' 'X330' 'X347' 'X369' 'X93']\n",
      "Column count : 17\n"
     ]
    }
   ],
   "source": [
    "print(\"Columns with 0 variance in total dataset:\", np.sort(var_z_list))\n",
    "print(\"Column count :\", len(var_z_list))"
   ]
  },
  {
   "cell_type": "code",
   "execution_count": 559,
   "id": "568bd595-0d69-4f3e-a61d-59b33ae8aa65",
   "metadata": {},
   "outputs": [],
   "source": [
    "train_dataset.drop(var_z_list, axis=1, inplace=True)\n",
    "test_dataset.drop(var_z_list, axis=1, inplace=True)"
   ]
  },
  {
   "cell_type": "code",
   "execution_count": 560,
   "id": "1db36ed6-acf2-4a27-b0bb-75fbbbbaadaa",
   "metadata": {},
   "outputs": [
    {
     "data": {
      "text/html": [
       "<div>\n",
       "<style scoped>\n",
       "    .dataframe tbody tr th:only-of-type {\n",
       "        vertical-align: middle;\n",
       "    }\n",
       "\n",
       "    .dataframe tbody tr th {\n",
       "        vertical-align: top;\n",
       "    }\n",
       "\n",
       "    .dataframe thead th {\n",
       "        text-align: right;\n",
       "    }\n",
       "</style>\n",
       "<table border=\"1\" class=\"dataframe\">\n",
       "  <thead>\n",
       "    <tr style=\"text-align: right;\">\n",
       "      <th></th>\n",
       "      <th>ID</th>\n",
       "      <th>y</th>\n",
       "      <th>X0</th>\n",
       "      <th>X1</th>\n",
       "      <th>X2</th>\n",
       "      <th>X3</th>\n",
       "      <th>X4</th>\n",
       "      <th>X5</th>\n",
       "      <th>X6</th>\n",
       "      <th>X8</th>\n",
       "      <th>...</th>\n",
       "      <th>X375</th>\n",
       "      <th>X376</th>\n",
       "      <th>X377</th>\n",
       "      <th>X378</th>\n",
       "      <th>X379</th>\n",
       "      <th>X380</th>\n",
       "      <th>X382</th>\n",
       "      <th>X383</th>\n",
       "      <th>X384</th>\n",
       "      <th>X385</th>\n",
       "    </tr>\n",
       "  </thead>\n",
       "  <tbody>\n",
       "    <tr>\n",
       "      <th>0</th>\n",
       "      <td>0</td>\n",
       "      <td>130.81</td>\n",
       "      <td>k</td>\n",
       "      <td>v</td>\n",
       "      <td>at</td>\n",
       "      <td>a</td>\n",
       "      <td>d</td>\n",
       "      <td>u</td>\n",
       "      <td>j</td>\n",
       "      <td>o</td>\n",
       "      <td>...</td>\n",
       "      <td>0</td>\n",
       "      <td>0</td>\n",
       "      <td>1</td>\n",
       "      <td>0</td>\n",
       "      <td>0</td>\n",
       "      <td>0</td>\n",
       "      <td>0</td>\n",
       "      <td>0</td>\n",
       "      <td>0</td>\n",
       "      <td>0</td>\n",
       "    </tr>\n",
       "    <tr>\n",
       "      <th>1</th>\n",
       "      <td>6</td>\n",
       "      <td>88.53</td>\n",
       "      <td>k</td>\n",
       "      <td>t</td>\n",
       "      <td>av</td>\n",
       "      <td>e</td>\n",
       "      <td>d</td>\n",
       "      <td>y</td>\n",
       "      <td>l</td>\n",
       "      <td>o</td>\n",
       "      <td>...</td>\n",
       "      <td>1</td>\n",
       "      <td>0</td>\n",
       "      <td>0</td>\n",
       "      <td>0</td>\n",
       "      <td>0</td>\n",
       "      <td>0</td>\n",
       "      <td>0</td>\n",
       "      <td>0</td>\n",
       "      <td>0</td>\n",
       "      <td>0</td>\n",
       "    </tr>\n",
       "    <tr>\n",
       "      <th>2</th>\n",
       "      <td>7</td>\n",
       "      <td>76.26</td>\n",
       "      <td>az</td>\n",
       "      <td>w</td>\n",
       "      <td>n</td>\n",
       "      <td>c</td>\n",
       "      <td>d</td>\n",
       "      <td>x</td>\n",
       "      <td>j</td>\n",
       "      <td>x</td>\n",
       "      <td>...</td>\n",
       "      <td>0</td>\n",
       "      <td>0</td>\n",
       "      <td>0</td>\n",
       "      <td>0</td>\n",
       "      <td>0</td>\n",
       "      <td>0</td>\n",
       "      <td>1</td>\n",
       "      <td>0</td>\n",
       "      <td>0</td>\n",
       "      <td>0</td>\n",
       "    </tr>\n",
       "    <tr>\n",
       "      <th>3</th>\n",
       "      <td>9</td>\n",
       "      <td>80.62</td>\n",
       "      <td>az</td>\n",
       "      <td>t</td>\n",
       "      <td>n</td>\n",
       "      <td>f</td>\n",
       "      <td>d</td>\n",
       "      <td>x</td>\n",
       "      <td>l</td>\n",
       "      <td>e</td>\n",
       "      <td>...</td>\n",
       "      <td>0</td>\n",
       "      <td>0</td>\n",
       "      <td>0</td>\n",
       "      <td>0</td>\n",
       "      <td>0</td>\n",
       "      <td>0</td>\n",
       "      <td>0</td>\n",
       "      <td>0</td>\n",
       "      <td>0</td>\n",
       "      <td>0</td>\n",
       "    </tr>\n",
       "    <tr>\n",
       "      <th>4</th>\n",
       "      <td>13</td>\n",
       "      <td>78.02</td>\n",
       "      <td>az</td>\n",
       "      <td>v</td>\n",
       "      <td>n</td>\n",
       "      <td>f</td>\n",
       "      <td>d</td>\n",
       "      <td>h</td>\n",
       "      <td>d</td>\n",
       "      <td>n</td>\n",
       "      <td>...</td>\n",
       "      <td>0</td>\n",
       "      <td>0</td>\n",
       "      <td>0</td>\n",
       "      <td>0</td>\n",
       "      <td>0</td>\n",
       "      <td>0</td>\n",
       "      <td>0</td>\n",
       "      <td>0</td>\n",
       "      <td>0</td>\n",
       "      <td>0</td>\n",
       "    </tr>\n",
       "  </tbody>\n",
       "</table>\n",
       "<p>5 rows × 361 columns</p>\n",
       "</div>"
      ],
      "text/plain": [
       "   ID       y  X0 X1  X2 X3 X4 X5 X6 X8  ...  X375  X376  X377  X378  X379  \\\n",
       "0   0  130.81   k  v  at  a  d  u  j  o  ...     0     0     1     0     0   \n",
       "1   6   88.53   k  t  av  e  d  y  l  o  ...     1     0     0     0     0   \n",
       "2   7   76.26  az  w   n  c  d  x  j  x  ...     0     0     0     0     0   \n",
       "3   9   80.62  az  t   n  f  d  x  l  e  ...     0     0     0     0     0   \n",
       "4  13   78.02  az  v   n  f  d  h  d  n  ...     0     0     0     0     0   \n",
       "\n",
       "   X380  X382  X383  X384  X385  \n",
       "0     0     0     0     0     0  \n",
       "1     0     0     0     0     0  \n",
       "2     0     1     0     0     0  \n",
       "3     0     0     0     0     0  \n",
       "4     0     0     0     0     0  \n",
       "\n",
       "[5 rows x 361 columns]"
      ]
     },
     "execution_count": 560,
     "metadata": {},
     "output_type": "execute_result"
    }
   ],
   "source": [
    "train_dataset.head()"
   ]
  },
  {
   "cell_type": "code",
   "execution_count": 561,
   "id": "60935be3-5aac-434d-ba42-0da1afb73511",
   "metadata": {},
   "outputs": [
    {
     "data": {
      "text/html": [
       "<div>\n",
       "<style scoped>\n",
       "    .dataframe tbody tr th:only-of-type {\n",
       "        vertical-align: middle;\n",
       "    }\n",
       "\n",
       "    .dataframe tbody tr th {\n",
       "        vertical-align: top;\n",
       "    }\n",
       "\n",
       "    .dataframe thead th {\n",
       "        text-align: right;\n",
       "    }\n",
       "</style>\n",
       "<table border=\"1\" class=\"dataframe\">\n",
       "  <thead>\n",
       "    <tr style=\"text-align: right;\">\n",
       "      <th></th>\n",
       "      <th>ID</th>\n",
       "      <th>X0</th>\n",
       "      <th>X1</th>\n",
       "      <th>X2</th>\n",
       "      <th>X3</th>\n",
       "      <th>X4</th>\n",
       "      <th>X5</th>\n",
       "      <th>X6</th>\n",
       "      <th>X8</th>\n",
       "      <th>X10</th>\n",
       "      <th>...</th>\n",
       "      <th>X375</th>\n",
       "      <th>X376</th>\n",
       "      <th>X377</th>\n",
       "      <th>X378</th>\n",
       "      <th>X379</th>\n",
       "      <th>X380</th>\n",
       "      <th>X382</th>\n",
       "      <th>X383</th>\n",
       "      <th>X384</th>\n",
       "      <th>X385</th>\n",
       "    </tr>\n",
       "  </thead>\n",
       "  <tbody>\n",
       "    <tr>\n",
       "      <th>0</th>\n",
       "      <td>1</td>\n",
       "      <td>az</td>\n",
       "      <td>v</td>\n",
       "      <td>n</td>\n",
       "      <td>f</td>\n",
       "      <td>d</td>\n",
       "      <td>t</td>\n",
       "      <td>a</td>\n",
       "      <td>w</td>\n",
       "      <td>0</td>\n",
       "      <td>...</td>\n",
       "      <td>0</td>\n",
       "      <td>0</td>\n",
       "      <td>0</td>\n",
       "      <td>1</td>\n",
       "      <td>0</td>\n",
       "      <td>0</td>\n",
       "      <td>0</td>\n",
       "      <td>0</td>\n",
       "      <td>0</td>\n",
       "      <td>0</td>\n",
       "    </tr>\n",
       "    <tr>\n",
       "      <th>1</th>\n",
       "      <td>2</td>\n",
       "      <td>t</td>\n",
       "      <td>b</td>\n",
       "      <td>ai</td>\n",
       "      <td>a</td>\n",
       "      <td>d</td>\n",
       "      <td>b</td>\n",
       "      <td>g</td>\n",
       "      <td>y</td>\n",
       "      <td>0</td>\n",
       "      <td>...</td>\n",
       "      <td>0</td>\n",
       "      <td>0</td>\n",
       "      <td>1</td>\n",
       "      <td>0</td>\n",
       "      <td>0</td>\n",
       "      <td>0</td>\n",
       "      <td>0</td>\n",
       "      <td>0</td>\n",
       "      <td>0</td>\n",
       "      <td>0</td>\n",
       "    </tr>\n",
       "    <tr>\n",
       "      <th>2</th>\n",
       "      <td>3</td>\n",
       "      <td>az</td>\n",
       "      <td>v</td>\n",
       "      <td>as</td>\n",
       "      <td>f</td>\n",
       "      <td>d</td>\n",
       "      <td>a</td>\n",
       "      <td>j</td>\n",
       "      <td>j</td>\n",
       "      <td>0</td>\n",
       "      <td>...</td>\n",
       "      <td>0</td>\n",
       "      <td>0</td>\n",
       "      <td>0</td>\n",
       "      <td>1</td>\n",
       "      <td>0</td>\n",
       "      <td>0</td>\n",
       "      <td>0</td>\n",
       "      <td>0</td>\n",
       "      <td>0</td>\n",
       "      <td>0</td>\n",
       "    </tr>\n",
       "    <tr>\n",
       "      <th>3</th>\n",
       "      <td>4</td>\n",
       "      <td>az</td>\n",
       "      <td>l</td>\n",
       "      <td>n</td>\n",
       "      <td>f</td>\n",
       "      <td>d</td>\n",
       "      <td>z</td>\n",
       "      <td>l</td>\n",
       "      <td>n</td>\n",
       "      <td>0</td>\n",
       "      <td>...</td>\n",
       "      <td>0</td>\n",
       "      <td>0</td>\n",
       "      <td>0</td>\n",
       "      <td>1</td>\n",
       "      <td>0</td>\n",
       "      <td>0</td>\n",
       "      <td>0</td>\n",
       "      <td>0</td>\n",
       "      <td>0</td>\n",
       "      <td>0</td>\n",
       "    </tr>\n",
       "    <tr>\n",
       "      <th>4</th>\n",
       "      <td>5</td>\n",
       "      <td>w</td>\n",
       "      <td>s</td>\n",
       "      <td>as</td>\n",
       "      <td>c</td>\n",
       "      <td>d</td>\n",
       "      <td>y</td>\n",
       "      <td>i</td>\n",
       "      <td>m</td>\n",
       "      <td>0</td>\n",
       "      <td>...</td>\n",
       "      <td>1</td>\n",
       "      <td>0</td>\n",
       "      <td>0</td>\n",
       "      <td>0</td>\n",
       "      <td>0</td>\n",
       "      <td>0</td>\n",
       "      <td>0</td>\n",
       "      <td>0</td>\n",
       "      <td>0</td>\n",
       "      <td>0</td>\n",
       "    </tr>\n",
       "  </tbody>\n",
       "</table>\n",
       "<p>5 rows × 360 columns</p>\n",
       "</div>"
      ],
      "text/plain": [
       "   ID  X0 X1  X2 X3 X4 X5 X6 X8  X10  ...  X375  X376  X377  X378  X379  X380  \\\n",
       "0   1  az  v   n  f  d  t  a  w    0  ...     0     0     0     1     0     0   \n",
       "1   2   t  b  ai  a  d  b  g  y    0  ...     0     0     1     0     0     0   \n",
       "2   3  az  v  as  f  d  a  j  j    0  ...     0     0     0     1     0     0   \n",
       "3   4  az  l   n  f  d  z  l  n    0  ...     0     0     0     1     0     0   \n",
       "4   5   w  s  as  c  d  y  i  m    0  ...     1     0     0     0     0     0   \n",
       "\n",
       "   X382  X383  X384  X385  \n",
       "0     0     0     0     0  \n",
       "1     0     0     0     0  \n",
       "2     0     0     0     0  \n",
       "3     0     0     0     0  \n",
       "4     0     0     0     0  \n",
       "\n",
       "[5 rows x 360 columns]"
      ]
     },
     "execution_count": 561,
     "metadata": {},
     "output_type": "execute_result"
    }
   ],
   "source": [
    "test_dataset.head()"
   ]
  },
  {
   "cell_type": "code",
   "execution_count": 562,
   "id": "9833314c-2d07-4d16-9cf2-1be0601f1264",
   "metadata": {},
   "outputs": [
    {
     "name": "stdout",
     "output_type": "stream",
     "text": [
      "# of columns in train dataset: 361, # of columns in test dataset: 360\n",
      "# of common object columns: 8\n",
      "# of common numeric columns: 352\n"
     ]
    }
   ],
   "source": [
    "# Identify common numeric columns between train and test dataset.\n",
    "\n",
    "common_numeric_cols = [col for col in test_dataset if col in train_numeric_cols]\n",
    "print('# of columns in train dataset: {:d}, # of columns in test dataset: {:d}'\n",
    "      .format(train_dataset.shape[1], test_dataset.shape[1]))\n",
    "print('# of common object columns: {:d}'.format(len(object_cols)))\n",
    "print('# of common numeric columns: {:d}'.format(len(common_numeric_cols)))"
   ]
  },
  {
   "cell_type": "markdown",
   "id": "5c35a418",
   "metadata": {},
   "source": [
    "### 2. Check for null and unique values for test and train sets."
   ]
  },
  {
   "cell_type": "code",
   "execution_count": 563,
   "id": "ae951654",
   "metadata": {},
   "outputs": [
    {
     "data": {
      "text/plain": [
       "(4209, 361)"
      ]
     },
     "execution_count": 563,
     "metadata": {},
     "output_type": "execute_result"
    }
   ],
   "source": [
    "train_dataset.shape"
   ]
  },
  {
   "cell_type": "code",
   "execution_count": 564,
   "id": "5b94d7fb",
   "metadata": {},
   "outputs": [
    {
     "data": {
      "text/plain": [
       "(4209, 360)"
      ]
     },
     "execution_count": 564,
     "metadata": {},
     "output_type": "execute_result"
    }
   ],
   "source": [
    "test_dataset.shape"
   ]
  },
  {
   "cell_type": "code",
   "execution_count": 565,
   "id": "c936ad0c",
   "metadata": {},
   "outputs": [],
   "source": [
    "# The function to find the columns which has nulls more than 70% of totoal rows\n",
    "def check_null_percetage_n_count() :\n",
    "    is_null = False\n",
    "    null_percentage = 70\n",
    "    for data in [train_dataset, test_dataset]:\n",
    "        print(\"....Checking dataset\")\n",
    "        for x in data.columns :    \n",
    "            null_count = data[x].isna().sum()\n",
    "            null_p = data[x].isna().sum()/data.shape[0]*100\n",
    "            if (null_p >= null_percentage) :\n",
    "                is_null = True\n",
    "                print('More than {:d} % of nulls : {:s} {:.2f} %'\n",
    "                      .format(null_percentage, x, null_p))\n",
    "            elif (null_count > 0) :\n",
    "                is_null = True\n",
    "                print('Null count : {:s} {:d}(count)'.format(x, null_count))\n",
    "            else :\n",
    "                is_null = False\n",
    "        if (is_null == False) :\n",
    "            print('There is no null values')"
   ]
  },
  {
   "cell_type": "code",
   "execution_count": 566,
   "id": "e932b56e",
   "metadata": {},
   "outputs": [
    {
     "name": "stdout",
     "output_type": "stream",
     "text": [
      "....Checking dataset\n",
      "There is no null values\n",
      "....Checking dataset\n",
      "There is no null values\n"
     ]
    }
   ],
   "source": [
    "check_null_percetage_n_count()"
   ]
  },
  {
   "cell_type": "code",
   "execution_count": 567,
   "id": "925e21c5-ff60-4a33-9e3c-bfd05a37cdc6",
   "metadata": {},
   "outputs": [
    {
     "data": {
      "text/plain": [
       "array([0, 1], dtype=int64)"
      ]
     },
     "execution_count": 567,
     "metadata": {},
     "output_type": "execute_result"
    }
   ],
   "source": [
    "train_dataset['X12'].unique()"
   ]
  },
  {
   "cell_type": "code",
   "execution_count": 568,
   "id": "df174b9d-e653-44c2-af44-790775a6be48",
   "metadata": {},
   "outputs": [
    {
     "name": "stdout",
     "output_type": "stream",
     "text": [
      "....Checking Train/Test Dataset for numeric columns: ....\n",
      "Column \"ID\" has values other values other than 0 or 1\n",
      "All the other columns have column values 0 or 1\n",
      "\n",
      "....Checking Train/Test Dataset for numeric columns: ....\n",
      "Column \"ID\" has values other values other than 0 or 1\n",
      "All the other columns have column values 0 or 1\n",
      "\n"
     ]
    }
   ],
   "source": [
    "# check unique values of numeric columns for train and test dataset.\n",
    "# Skip object columns because I will LabelEncoding later for object columns.\n",
    "# Check if common numeric columns of train and test dataset have other values except for 0 and 1.\n",
    "flag = True\n",
    "for data in [train_dataset, test_dataset] :\n",
    "    print(\"....Checking Train/Test Dataset for numeric columns: ....\")\n",
    "    for x in data[common_numeric_cols] :\n",
    "        for y in zip( np.sort(data[x].unique()), [0,1]) :\n",
    "            #print(x)\n",
    "            if (y[0] != y[1]) :\n",
    "                flag = False\n",
    "        if flag == False :\n",
    "            print('Column \\\"{:s}\\\" has values other values other than 0 or 1'.format(x))\n",
    "            flag = True\n",
    "    print('All the other columns have column values 0 or 1\\n')"
   ]
  },
  {
   "cell_type": "markdown",
   "id": "0bbc5de1",
   "metadata": {},
   "source": [
    "### 3. Apply label encoder"
   ]
  },
  {
   "cell_type": "code",
   "execution_count": 569,
   "id": "2e8f5217-015b-4b99-889e-48164d0a7f11",
   "metadata": {},
   "outputs": [
    {
     "name": "stdout",
     "output_type": "stream",
     "text": [
      "<class 'pandas.core.frame.DataFrame'>\n",
      "RangeIndex: 4209 entries, 0 to 4208\n",
      "Columns: 361 entries, ID to X385\n",
      "dtypes: float64(1), int64(352), object(8)\n",
      "memory usage: 11.6+ MB\n"
     ]
    }
   ],
   "source": [
    "train_dataset.info()"
   ]
  },
  {
   "cell_type": "code",
   "execution_count": 570,
   "id": "8d36d21e-156b-422d-906d-20c1ede3a773",
   "metadata": {},
   "outputs": [
    {
     "name": "stdout",
     "output_type": "stream",
     "text": [
      "<class 'pandas.core.frame.DataFrame'>\n",
      "RangeIndex: 4209 entries, 0 to 4208\n",
      "Columns: 360 entries, ID to X385\n",
      "dtypes: int64(352), object(8)\n",
      "memory usage: 11.6+ MB\n"
     ]
    }
   ],
   "source": [
    "test_dataset.info()"
   ]
  },
  {
   "cell_type": "code",
   "execution_count": 571,
   "id": "dba8e615",
   "metadata": {},
   "outputs": [],
   "source": [
    "# Drop ID column\n",
    "train_dataset.drop('ID', axis=1, inplace=True)\n",
    "test_dataset.drop('ID', axis=1, inplace=True)"
   ]
  },
  {
   "cell_type": "code",
   "execution_count": 572,
   "id": "8a6020cc",
   "metadata": {},
   "outputs": [
    {
     "data": {
      "text/html": [
       "<div>\n",
       "<style scoped>\n",
       "    .dataframe tbody tr th:only-of-type {\n",
       "        vertical-align: middle;\n",
       "    }\n",
       "\n",
       "    .dataframe tbody tr th {\n",
       "        vertical-align: top;\n",
       "    }\n",
       "\n",
       "    .dataframe thead th {\n",
       "        text-align: right;\n",
       "    }\n",
       "</style>\n",
       "<table border=\"1\" class=\"dataframe\">\n",
       "  <thead>\n",
       "    <tr style=\"text-align: right;\">\n",
       "      <th></th>\n",
       "      <th>y</th>\n",
       "      <th>X0</th>\n",
       "      <th>X1</th>\n",
       "      <th>X2</th>\n",
       "      <th>X3</th>\n",
       "      <th>X4</th>\n",
       "      <th>X5</th>\n",
       "      <th>X6</th>\n",
       "      <th>X8</th>\n",
       "      <th>X10</th>\n",
       "      <th>...</th>\n",
       "      <th>X375</th>\n",
       "      <th>X376</th>\n",
       "      <th>X377</th>\n",
       "      <th>X378</th>\n",
       "      <th>X379</th>\n",
       "      <th>X380</th>\n",
       "      <th>X382</th>\n",
       "      <th>X383</th>\n",
       "      <th>X384</th>\n",
       "      <th>X385</th>\n",
       "    </tr>\n",
       "  </thead>\n",
       "  <tbody>\n",
       "    <tr>\n",
       "      <th>0</th>\n",
       "      <td>130.81</td>\n",
       "      <td>k</td>\n",
       "      <td>v</td>\n",
       "      <td>at</td>\n",
       "      <td>a</td>\n",
       "      <td>d</td>\n",
       "      <td>u</td>\n",
       "      <td>j</td>\n",
       "      <td>o</td>\n",
       "      <td>0</td>\n",
       "      <td>...</td>\n",
       "      <td>0</td>\n",
       "      <td>0</td>\n",
       "      <td>1</td>\n",
       "      <td>0</td>\n",
       "      <td>0</td>\n",
       "      <td>0</td>\n",
       "      <td>0</td>\n",
       "      <td>0</td>\n",
       "      <td>0</td>\n",
       "      <td>0</td>\n",
       "    </tr>\n",
       "    <tr>\n",
       "      <th>1</th>\n",
       "      <td>88.53</td>\n",
       "      <td>k</td>\n",
       "      <td>t</td>\n",
       "      <td>av</td>\n",
       "      <td>e</td>\n",
       "      <td>d</td>\n",
       "      <td>y</td>\n",
       "      <td>l</td>\n",
       "      <td>o</td>\n",
       "      <td>0</td>\n",
       "      <td>...</td>\n",
       "      <td>1</td>\n",
       "      <td>0</td>\n",
       "      <td>0</td>\n",
       "      <td>0</td>\n",
       "      <td>0</td>\n",
       "      <td>0</td>\n",
       "      <td>0</td>\n",
       "      <td>0</td>\n",
       "      <td>0</td>\n",
       "      <td>0</td>\n",
       "    </tr>\n",
       "    <tr>\n",
       "      <th>2</th>\n",
       "      <td>76.26</td>\n",
       "      <td>az</td>\n",
       "      <td>w</td>\n",
       "      <td>n</td>\n",
       "      <td>c</td>\n",
       "      <td>d</td>\n",
       "      <td>x</td>\n",
       "      <td>j</td>\n",
       "      <td>x</td>\n",
       "      <td>0</td>\n",
       "      <td>...</td>\n",
       "      <td>0</td>\n",
       "      <td>0</td>\n",
       "      <td>0</td>\n",
       "      <td>0</td>\n",
       "      <td>0</td>\n",
       "      <td>0</td>\n",
       "      <td>1</td>\n",
       "      <td>0</td>\n",
       "      <td>0</td>\n",
       "      <td>0</td>\n",
       "    </tr>\n",
       "    <tr>\n",
       "      <th>3</th>\n",
       "      <td>80.62</td>\n",
       "      <td>az</td>\n",
       "      <td>t</td>\n",
       "      <td>n</td>\n",
       "      <td>f</td>\n",
       "      <td>d</td>\n",
       "      <td>x</td>\n",
       "      <td>l</td>\n",
       "      <td>e</td>\n",
       "      <td>0</td>\n",
       "      <td>...</td>\n",
       "      <td>0</td>\n",
       "      <td>0</td>\n",
       "      <td>0</td>\n",
       "      <td>0</td>\n",
       "      <td>0</td>\n",
       "      <td>0</td>\n",
       "      <td>0</td>\n",
       "      <td>0</td>\n",
       "      <td>0</td>\n",
       "      <td>0</td>\n",
       "    </tr>\n",
       "    <tr>\n",
       "      <th>4</th>\n",
       "      <td>78.02</td>\n",
       "      <td>az</td>\n",
       "      <td>v</td>\n",
       "      <td>n</td>\n",
       "      <td>f</td>\n",
       "      <td>d</td>\n",
       "      <td>h</td>\n",
       "      <td>d</td>\n",
       "      <td>n</td>\n",
       "      <td>0</td>\n",
       "      <td>...</td>\n",
       "      <td>0</td>\n",
       "      <td>0</td>\n",
       "      <td>0</td>\n",
       "      <td>0</td>\n",
       "      <td>0</td>\n",
       "      <td>0</td>\n",
       "      <td>0</td>\n",
       "      <td>0</td>\n",
       "      <td>0</td>\n",
       "      <td>0</td>\n",
       "    </tr>\n",
       "  </tbody>\n",
       "</table>\n",
       "<p>5 rows × 360 columns</p>\n",
       "</div>"
      ],
      "text/plain": [
       "        y  X0 X1  X2 X3 X4 X5 X6 X8  X10  ...  X375  X376  X377  X378  X379  \\\n",
       "0  130.81   k  v  at  a  d  u  j  o    0  ...     0     0     1     0     0   \n",
       "1   88.53   k  t  av  e  d  y  l  o    0  ...     1     0     0     0     0   \n",
       "2   76.26  az  w   n  c  d  x  j  x    0  ...     0     0     0     0     0   \n",
       "3   80.62  az  t   n  f  d  x  l  e    0  ...     0     0     0     0     0   \n",
       "4   78.02  az  v   n  f  d  h  d  n    0  ...     0     0     0     0     0   \n",
       "\n",
       "   X380  X382  X383  X384  X385  \n",
       "0     0     0     0     0     0  \n",
       "1     0     0     0     0     0  \n",
       "2     0     1     0     0     0  \n",
       "3     0     0     0     0     0  \n",
       "4     0     0     0     0     0  \n",
       "\n",
       "[5 rows x 360 columns]"
      ]
     },
     "execution_count": 572,
     "metadata": {},
     "output_type": "execute_result"
    }
   ],
   "source": [
    "train_dataset.head()"
   ]
  },
  {
   "cell_type": "code",
   "execution_count": 573,
   "id": "c08b5c11",
   "metadata": {},
   "outputs": [],
   "source": [
    "# Apply LabelEncoder for object columns on Train and Test dataset\n",
    "from sklearn.preprocessing import LabelEncoder\n",
    "\n",
    "le = LabelEncoder()\n",
    "\n",
    "for data in [train_dataset, test_dataset] :\n",
    "    for col in object_cols :\n",
    "        le_fit = le.fit_transform(data[col])\n",
    "        data[col] = le_fit"
   ]
  },
  {
   "cell_type": "markdown",
   "id": "8748ea1c",
   "metadata": {},
   "source": [
    "### 4. Perform dimensionality reduction using PCA"
   ]
  },
  {
   "cell_type": "code",
   "execution_count": 574,
   "id": "475da256",
   "metadata": {},
   "outputs": [
    {
     "data": {
      "text/plain": [
       "(4209, 360)"
      ]
     },
     "execution_count": 574,
     "metadata": {},
     "output_type": "execute_result"
    }
   ],
   "source": [
    "train_dataset.shape"
   ]
  },
  {
   "cell_type": "code",
   "execution_count": 575,
   "id": "b57d7462",
   "metadata": {},
   "outputs": [
    {
     "data": {
      "text/plain": [
       "(4209, 359)"
      ]
     },
     "execution_count": 575,
     "metadata": {},
     "output_type": "execute_result"
    }
   ],
   "source": [
    "test_dataset.shape"
   ]
  },
  {
   "cell_type": "code",
   "execution_count": 576,
   "id": "5f3fd9a5",
   "metadata": {},
   "outputs": [
    {
     "data": {
      "text/html": [
       "<div>\n",
       "<style scoped>\n",
       "    .dataframe tbody tr th:only-of-type {\n",
       "        vertical-align: middle;\n",
       "    }\n",
       "\n",
       "    .dataframe tbody tr th {\n",
       "        vertical-align: top;\n",
       "    }\n",
       "\n",
       "    .dataframe thead th {\n",
       "        text-align: right;\n",
       "    }\n",
       "</style>\n",
       "<table border=\"1\" class=\"dataframe\">\n",
       "  <thead>\n",
       "    <tr style=\"text-align: right;\">\n",
       "      <th></th>\n",
       "      <th>y</th>\n",
       "      <th>X0</th>\n",
       "      <th>X1</th>\n",
       "      <th>X2</th>\n",
       "      <th>X3</th>\n",
       "      <th>X4</th>\n",
       "      <th>X5</th>\n",
       "      <th>X6</th>\n",
       "      <th>X8</th>\n",
       "      <th>X10</th>\n",
       "      <th>...</th>\n",
       "      <th>X375</th>\n",
       "      <th>X376</th>\n",
       "      <th>X377</th>\n",
       "      <th>X378</th>\n",
       "      <th>X379</th>\n",
       "      <th>X380</th>\n",
       "      <th>X382</th>\n",
       "      <th>X383</th>\n",
       "      <th>X384</th>\n",
       "      <th>X385</th>\n",
       "    </tr>\n",
       "  </thead>\n",
       "  <tbody>\n",
       "    <tr>\n",
       "      <th>0</th>\n",
       "      <td>130.81</td>\n",
       "      <td>32</td>\n",
       "      <td>23</td>\n",
       "      <td>17</td>\n",
       "      <td>0</td>\n",
       "      <td>3</td>\n",
       "      <td>24</td>\n",
       "      <td>9</td>\n",
       "      <td>14</td>\n",
       "      <td>0</td>\n",
       "      <td>...</td>\n",
       "      <td>0</td>\n",
       "      <td>0</td>\n",
       "      <td>1</td>\n",
       "      <td>0</td>\n",
       "      <td>0</td>\n",
       "      <td>0</td>\n",
       "      <td>0</td>\n",
       "      <td>0</td>\n",
       "      <td>0</td>\n",
       "      <td>0</td>\n",
       "    </tr>\n",
       "    <tr>\n",
       "      <th>1</th>\n",
       "      <td>88.53</td>\n",
       "      <td>32</td>\n",
       "      <td>21</td>\n",
       "      <td>19</td>\n",
       "      <td>4</td>\n",
       "      <td>3</td>\n",
       "      <td>28</td>\n",
       "      <td>11</td>\n",
       "      <td>14</td>\n",
       "      <td>0</td>\n",
       "      <td>...</td>\n",
       "      <td>1</td>\n",
       "      <td>0</td>\n",
       "      <td>0</td>\n",
       "      <td>0</td>\n",
       "      <td>0</td>\n",
       "      <td>0</td>\n",
       "      <td>0</td>\n",
       "      <td>0</td>\n",
       "      <td>0</td>\n",
       "      <td>0</td>\n",
       "    </tr>\n",
       "    <tr>\n",
       "      <th>2</th>\n",
       "      <td>76.26</td>\n",
       "      <td>20</td>\n",
       "      <td>24</td>\n",
       "      <td>34</td>\n",
       "      <td>2</td>\n",
       "      <td>3</td>\n",
       "      <td>27</td>\n",
       "      <td>9</td>\n",
       "      <td>23</td>\n",
       "      <td>0</td>\n",
       "      <td>...</td>\n",
       "      <td>0</td>\n",
       "      <td>0</td>\n",
       "      <td>0</td>\n",
       "      <td>0</td>\n",
       "      <td>0</td>\n",
       "      <td>0</td>\n",
       "      <td>1</td>\n",
       "      <td>0</td>\n",
       "      <td>0</td>\n",
       "      <td>0</td>\n",
       "    </tr>\n",
       "    <tr>\n",
       "      <th>3</th>\n",
       "      <td>80.62</td>\n",
       "      <td>20</td>\n",
       "      <td>21</td>\n",
       "      <td>34</td>\n",
       "      <td>5</td>\n",
       "      <td>3</td>\n",
       "      <td>27</td>\n",
       "      <td>11</td>\n",
       "      <td>4</td>\n",
       "      <td>0</td>\n",
       "      <td>...</td>\n",
       "      <td>0</td>\n",
       "      <td>0</td>\n",
       "      <td>0</td>\n",
       "      <td>0</td>\n",
       "      <td>0</td>\n",
       "      <td>0</td>\n",
       "      <td>0</td>\n",
       "      <td>0</td>\n",
       "      <td>0</td>\n",
       "      <td>0</td>\n",
       "    </tr>\n",
       "    <tr>\n",
       "      <th>4</th>\n",
       "      <td>78.02</td>\n",
       "      <td>20</td>\n",
       "      <td>23</td>\n",
       "      <td>34</td>\n",
       "      <td>5</td>\n",
       "      <td>3</td>\n",
       "      <td>12</td>\n",
       "      <td>3</td>\n",
       "      <td>13</td>\n",
       "      <td>0</td>\n",
       "      <td>...</td>\n",
       "      <td>0</td>\n",
       "      <td>0</td>\n",
       "      <td>0</td>\n",
       "      <td>0</td>\n",
       "      <td>0</td>\n",
       "      <td>0</td>\n",
       "      <td>0</td>\n",
       "      <td>0</td>\n",
       "      <td>0</td>\n",
       "      <td>0</td>\n",
       "    </tr>\n",
       "  </tbody>\n",
       "</table>\n",
       "<p>5 rows × 360 columns</p>\n",
       "</div>"
      ],
      "text/plain": [
       "        y  X0  X1  X2  X3  X4  X5  X6  X8  X10  ...  X375  X376  X377  X378  \\\n",
       "0  130.81  32  23  17   0   3  24   9  14    0  ...     0     0     1     0   \n",
       "1   88.53  32  21  19   4   3  28  11  14    0  ...     1     0     0     0   \n",
       "2   76.26  20  24  34   2   3  27   9  23    0  ...     0     0     0     0   \n",
       "3   80.62  20  21  34   5   3  27  11   4    0  ...     0     0     0     0   \n",
       "4   78.02  20  23  34   5   3  12   3  13    0  ...     0     0     0     0   \n",
       "\n",
       "   X379  X380  X382  X383  X384  X385  \n",
       "0     0     0     0     0     0     0  \n",
       "1     0     0     0     0     0     0  \n",
       "2     0     0     1     0     0     0  \n",
       "3     0     0     0     0     0     0  \n",
       "4     0     0     0     0     0     0  \n",
       "\n",
       "[5 rows x 360 columns]"
      ]
     },
     "execution_count": 576,
     "metadata": {},
     "output_type": "execute_result"
    }
   ],
   "source": [
    "train_dataset.head()"
   ]
  },
  {
   "cell_type": "code",
   "execution_count": 577,
   "id": "3499dcd9",
   "metadata": {},
   "outputs": [],
   "source": [
    "from sklearn.decomposition import PCA\n",
    "\n",
    "# can not be larger than min(n_features, n_classes - 1)\n",
    "\n",
    "df_x_train = train_dataset.drop(['y'], axis=1)\n",
    "df_y_train = train_dataset['y']"
   ]
  },
  {
   "cell_type": "code",
   "execution_count": 578,
   "id": "10cf684b-3593-4007-b5c7-4c61497c9fa0",
   "metadata": {},
   "outputs": [
    {
     "name": "stdout",
     "output_type": "stream",
     "text": [
      "Number of component for PCA: 6\n"
     ]
    }
   ],
   "source": [
    "# Check the number of componets for PCA\n",
    "from sklearn.decomposition import PCA\n",
    "pca = PCA()\n",
    "pca.fit(df_x_train)\n",
    "cumsum = np.cumsum(pca.explained_variance_ratio_)\n",
    "print(\"Number of component for PCA:\", np.argmax(cumsum >= 0.95) + 1)"
   ]
  },
  {
   "cell_type": "code",
   "execution_count": 579,
   "id": "bd47a3b0",
   "metadata": {},
   "outputs": [
    {
     "data": {
      "text/html": [
       "<style>#sk-container-id-13 {color: black;}#sk-container-id-13 pre{padding: 0;}#sk-container-id-13 div.sk-toggleable {background-color: white;}#sk-container-id-13 label.sk-toggleable__label {cursor: pointer;display: block;width: 100%;margin-bottom: 0;padding: 0.3em;box-sizing: border-box;text-align: center;}#sk-container-id-13 label.sk-toggleable__label-arrow:before {content: \"▸\";float: left;margin-right: 0.25em;color: #696969;}#sk-container-id-13 label.sk-toggleable__label-arrow:hover:before {color: black;}#sk-container-id-13 div.sk-estimator:hover label.sk-toggleable__label-arrow:before {color: black;}#sk-container-id-13 div.sk-toggleable__content {max-height: 0;max-width: 0;overflow: hidden;text-align: left;background-color: #f0f8ff;}#sk-container-id-13 div.sk-toggleable__content pre {margin: 0.2em;color: black;border-radius: 0.25em;background-color: #f0f8ff;}#sk-container-id-13 input.sk-toggleable__control:checked~div.sk-toggleable__content {max-height: 200px;max-width: 100%;overflow: auto;}#sk-container-id-13 input.sk-toggleable__control:checked~label.sk-toggleable__label-arrow:before {content: \"▾\";}#sk-container-id-13 div.sk-estimator input.sk-toggleable__control:checked~label.sk-toggleable__label {background-color: #d4ebff;}#sk-container-id-13 div.sk-label input.sk-toggleable__control:checked~label.sk-toggleable__label {background-color: #d4ebff;}#sk-container-id-13 input.sk-hidden--visually {border: 0;clip: rect(1px 1px 1px 1px);clip: rect(1px, 1px, 1px, 1px);height: 1px;margin: -1px;overflow: hidden;padding: 0;position: absolute;width: 1px;}#sk-container-id-13 div.sk-estimator {font-family: monospace;background-color: #f0f8ff;border: 1px dotted black;border-radius: 0.25em;box-sizing: border-box;margin-bottom: 0.5em;}#sk-container-id-13 div.sk-estimator:hover {background-color: #d4ebff;}#sk-container-id-13 div.sk-parallel-item::after {content: \"\";width: 100%;border-bottom: 1px solid gray;flex-grow: 1;}#sk-container-id-13 div.sk-label:hover label.sk-toggleable__label {background-color: #d4ebff;}#sk-container-id-13 div.sk-serial::before {content: \"\";position: absolute;border-left: 1px solid gray;box-sizing: border-box;top: 0;bottom: 0;left: 50%;z-index: 0;}#sk-container-id-13 div.sk-serial {display: flex;flex-direction: column;align-items: center;background-color: white;padding-right: 0.2em;padding-left: 0.2em;position: relative;}#sk-container-id-13 div.sk-item {position: relative;z-index: 1;}#sk-container-id-13 div.sk-parallel {display: flex;align-items: stretch;justify-content: center;background-color: white;position: relative;}#sk-container-id-13 div.sk-item::before, #sk-container-id-13 div.sk-parallel-item::before {content: \"\";position: absolute;border-left: 1px solid gray;box-sizing: border-box;top: 0;bottom: 0;left: 50%;z-index: -1;}#sk-container-id-13 div.sk-parallel-item {display: flex;flex-direction: column;z-index: 1;position: relative;background-color: white;}#sk-container-id-13 div.sk-parallel-item:first-child::after {align-self: flex-end;width: 50%;}#sk-container-id-13 div.sk-parallel-item:last-child::after {align-self: flex-start;width: 50%;}#sk-container-id-13 div.sk-parallel-item:only-child::after {width: 0;}#sk-container-id-13 div.sk-dashed-wrapped {border: 1px dashed gray;margin: 0 0.4em 0.5em 0.4em;box-sizing: border-box;padding-bottom: 0.4em;background-color: white;}#sk-container-id-13 div.sk-label label {font-family: monospace;font-weight: bold;display: inline-block;line-height: 1.2em;}#sk-container-id-13 div.sk-label-container {text-align: center;}#sk-container-id-13 div.sk-container {/* jupyter's `normalize.less` sets `[hidden] { display: none; }` but bootstrap.min.css set `[hidden] { display: none !important; }` so we also need the `!important` here to be able to override the default hidden behavior on the sphinx rendered scikit-learn.org. See: https://github.com/scikit-learn/scikit-learn/issues/21755 */display: inline-block !important;position: relative;}#sk-container-id-13 div.sk-text-repr-fallback {display: none;}</style><div id=\"sk-container-id-13\" class=\"sk-top-container\"><div class=\"sk-text-repr-fallback\"><pre>PCA(n_components=0.95, random_state=7)</pre><b>In a Jupyter environment, please rerun this cell to show the HTML representation or trust the notebook. <br />On GitHub, the HTML representation is unable to render, please try loading this page with nbviewer.org.</b></div><div class=\"sk-container\" hidden><div class=\"sk-item\"><div class=\"sk-estimator sk-toggleable\"><input class=\"sk-toggleable__control sk-hidden--visually\" id=\"sk-estimator-id-13\" type=\"checkbox\" checked><label for=\"sk-estimator-id-13\" class=\"sk-toggleable__label sk-toggleable__label-arrow\">PCA</label><div class=\"sk-toggleable__content\"><pre>PCA(n_components=0.95, random_state=7)</pre></div></div></div></div></div>"
      ],
      "text/plain": [
       "PCA(n_components=0.95, random_state=7)"
      ]
     },
     "execution_count": 579,
     "metadata": {},
     "output_type": "execute_result"
    }
   ],
   "source": [
    "pca_dr = PCA(n_components = 0.95, random_state=7)\n",
    "pca_dr.fit(df_x_train)"
   ]
  },
  {
   "cell_type": "code",
   "execution_count": 580,
   "id": "6f1e41a5",
   "metadata": {},
   "outputs": [
    {
     "name": "stdout",
     "output_type": "stream",
     "text": [
      "(4209, 6) (4209,)\n"
     ]
    }
   ],
   "source": [
    "df_x_train_trans = pca_dr.fit_transform(df_x_train)\n",
    "print(df_x_train_trans.shape, df_y_train.shape)"
   ]
  },
  {
   "cell_type": "markdown",
   "id": "9e9dea14",
   "metadata": {},
   "source": [
    "### 5. Split train and test dataset"
   ]
  },
  {
   "cell_type": "code",
   "execution_count": 581,
   "id": "fb0412ee",
   "metadata": {},
   "outputs": [
    {
     "name": "stdout",
     "output_type": "stream",
     "text": [
      "shape of train dataset: (2946, 6) (2946,)\n",
      "shape of test dataset: (1263, 6) (1263,)\n"
     ]
    }
   ],
   "source": [
    "import xgboost as xgb\n",
    "from sklearn.metrics import mean_squared_error, mean_absolute_error\n",
    "from sklearn.model_selection import train_test_split\n",
    "from math import sqrt\n",
    "\n",
    "X_train, X_test, y_train, y_test = train_test_split(df_x_train_trans, \n",
    "                                                    df_y_train, \n",
    "                                                    test_size=0.3,\n",
    "                                                    random_state=7)\n",
    "print(\"shape of train dataset:\", X_train.shape, y_train.shape)\n",
    "print(\"shape of test dataset:\", X_test.shape, y_test.shape)"
   ]
  },
  {
   "cell_type": "code",
   "execution_count": 582,
   "id": "22081ee7",
   "metadata": {},
   "outputs": [
    {
     "name": "stdout",
     "output_type": "stream",
     "text": [
      "RMSE : 12.89\n",
      "MSE : 166.19\n",
      "MAE : 8.94\n"
     ]
    }
   ],
   "source": [
    "xgb_reg = xgb.XGBRegressor(objective='reg:squarederror', \n",
    "                           colsample_bytree=0.3,\n",
    "                           learning_rate=0.3,\n",
    "                           max_depth=10,\n",
    "                           randome_state=17\n",
    "                          )\n",
    "model=xgb_reg.fit(X_train, y_train)\n",
    "print(\"RMSE : {:.2f}\".format(sqrt(mean_squared_error(model.predict(X_test), y_test))))\n",
    "print(\"MSE : {:.2f}\".format(mean_squared_error(model.predict(X_test), y_test)))\n",
    "print(\"MAE : {:.2f}\".format(mean_absolute_error(model.predict(X_test), y_test)))"
   ]
  },
  {
   "cell_type": "markdown",
   "id": "18bd749e",
   "metadata": {},
   "source": [
    "### 6. Hyperparamter tunning with GridSearchCV and RandomizedSearchCV"
   ]
  },
  {
   "cell_type": "code",
   "execution_count": 583,
   "id": "4f9ccb8d-dd80-4495-ab76-a9044a005a02",
   "metadata": {},
   "outputs": [
    {
     "data": {
      "text/plain": [
       "{'objective': 'reg:squarederror',\n",
       " 'base_score': None,\n",
       " 'booster': None,\n",
       " 'callbacks': None,\n",
       " 'colsample_bylevel': None,\n",
       " 'colsample_bynode': None,\n",
       " 'colsample_bytree': 0.3,\n",
       " 'device': None,\n",
       " 'early_stopping_rounds': None,\n",
       " 'enable_categorical': False,\n",
       " 'eval_metric': None,\n",
       " 'feature_types': None,\n",
       " 'gamma': None,\n",
       " 'grow_policy': None,\n",
       " 'importance_type': None,\n",
       " 'interaction_constraints': None,\n",
       " 'learning_rate': 0.3,\n",
       " 'max_bin': None,\n",
       " 'max_cat_threshold': None,\n",
       " 'max_cat_to_onehot': None,\n",
       " 'max_delta_step': None,\n",
       " 'max_depth': 10,\n",
       " 'max_leaves': None,\n",
       " 'min_child_weight': None,\n",
       " 'missing': nan,\n",
       " 'monotone_constraints': None,\n",
       " 'multi_strategy': None,\n",
       " 'n_estimators': None,\n",
       " 'n_jobs': None,\n",
       " 'num_parallel_tree': None,\n",
       " 'random_state': None,\n",
       " 'reg_alpha': None,\n",
       " 'reg_lambda': None,\n",
       " 'sampling_method': None,\n",
       " 'scale_pos_weight': None,\n",
       " 'subsample': None,\n",
       " 'tree_method': None,\n",
       " 'validate_parameters': None,\n",
       " 'verbosity': None,\n",
       " 'randome_state': 17}"
      ]
     },
     "execution_count": 583,
     "metadata": {},
     "output_type": "execute_result"
    }
   ],
   "source": [
    "# check the values of hyperparameters\n",
    "xgb_reg.get_params()"
   ]
  },
  {
   "cell_type": "code",
   "execution_count": 584,
   "id": "caf21f17-5c94-43ef-a000-7218679d4747",
   "metadata": {},
   "outputs": [
    {
     "name": "stdout",
     "output_type": "stream",
     "text": [
      "===== Hyperparameter Tunning with RandomizedSearchCV =====\n",
      "RMSE : 11.69\n",
      "MSE : 136.76\n",
      "MAE : 7.87\n"
     ]
    }
   ],
   "source": [
    "# hyperparameter tunning using RandomizedSearchCV\n",
    "from sklearn.model_selection import RandomizedSearchCV\n",
    "\n",
    "xgb_reg = xgb.XGBRegressor()\n",
    "xgb_reg.fit(X_train, y_train)\n",
    "param_vals = {'objective': ['reg:squarederror', 'reg:linear', 'reg:squaredlogerror', 'reg:gamma'],\n",
    "              'n_estimator': [1,100,300,500],\n",
    "              'min_child_weight': [1,2,3,4],\n",
    "              'max_depth': [2,3,4,5],\n",
    "              'learning_rate': [0.1,0.11,0.3, 0.4], \n",
    "              'gamma': [ 1, 10, 100, 1000],\n",
    "              'eta': [0.02,0.022,0.03,0.035],\n",
    "              'colsample_bytree':[0.2, 0.3, 0.4, 0.5]\n",
    "             }\n",
    "random_rf = RandomizedSearchCV(estimator=xgb_reg,\n",
    "                               param_distributions=param_vals,\n",
    "                               n_iter=4, \n",
    "                               scoring='accuracy', \n",
    "                               random_state=177,\n",
    "                               refit=True,\n",
    "                               n_jobs=-1,\n",
    "                               cv=3)\n",
    "#Training and prediction\n",
    "random_rf.fit(X_train, y_train)\n",
    "random_rf_preds = random_rf.best_estimator_.predict(X_test)\n",
    "print (\"===== Hyperparameter Tunning with RandomizedSearchCV =====\")\n",
    "print(\"RMSE : {:.2f}\".format(sqrt(mean_squared_error(random_rf_preds, y_test))))\n",
    "print(\"MSE : {:.2f}\".format(mean_squared_error(random_rf_preds, y_test)))\n",
    "print(\"MAE : {:.2f}\".format(mean_absolute_error(random_rf_preds, y_test)))\n"
   ]
  },
  {
   "cell_type": "code",
   "execution_count": 585,
   "id": "cb9fd740-b54d-4070-9011-def8dd408eac",
   "metadata": {},
   "outputs": [
    {
     "data": {
      "text/plain": [
       "{'objective': 'reg:linear',\n",
       " 'n_estimator': 1,\n",
       " 'min_child_weight': 4,\n",
       " 'max_depth': 2,\n",
       " 'learning_rate': 0.3,\n",
       " 'gamma': 100,\n",
       " 'eta': 0.02,\n",
       " 'colsample_bytree': 0.4}"
      ]
     },
     "execution_count": 585,
     "metadata": {},
     "output_type": "execute_result"
    }
   ],
   "source": [
    "# print best hyperparameters after tunning\n",
    "random_rf.best_params_"
   ]
  },
  {
   "cell_type": "code",
   "execution_count": null,
   "id": "593e55b8-61f0-4971-93f6-c246f60db4d3",
   "metadata": {},
   "outputs": [],
   "source": [
    "# hyperparameter tunning by GridSerchCV\n",
    "from sklearn.model_selection import GridSearchCV\n",
    "xgb_reg = xgb.XGBRegressor()\n",
    "xgb_reg.fit(X_train, y_train)\n",
    "\n",
    "grid_vals = {'obejctive':['reg:linear', 'reg:squarederror'],\n",
    "             'n_estimator':[1, 10],\n",
    "             'min_child_weight':[3,4],\n",
    "             'max_depth':[2,3],\n",
    "             'learning_rate': [0.3,0.4], \n",
    "             'gamma':[100, 200],\n",
    "             'eta':[0.02, 0.022],\n",
    "             'colsample_bytree': [0.3,0.4]\n",
    "            }\n",
    "grid_lr = GridSearchCV(estimator=xgb_reg,\n",
    "                       param_grid=grid_vals,\n",
    "                       scoring='accuracy',\n",
    "                       cv=4, \n",
    "                       refit=True,\n",
    "                       return_train_score=True)\n",
    "#Training and Prediction\n",
    "grid_lr_model=grid_lr.fit(X_train, y_train)\n",
    "preds = grid_lr_model.best_estimator_.predict(X_test)\n",
    "print(\"===== Hyperparameter Tunning with GridSearchCV =====\")\n",
    "\n",
    "print(\"RMSE : {:.2f}\".format(sqrt(mean_squared_error(preds, y_test))))\n",
    "print(\"MSE : {:.2f}\".format(mean_squared_error(preds, y_test)))\n",
    "print(\"MAE : {:.2f}\".format(mean_absolute_error(preds, y_test)))\n"
   ]
  },
  {
   "cell_type": "code",
   "execution_count": null,
   "id": "f87de692-7a53-45b4-9258-760336c4afb0",
   "metadata": {},
   "outputs": [],
   "source": [
    "grid_lr.best_params_"
   ]
  },
  {
   "cell_type": "code",
   "execution_count": null,
   "id": "79c1c040-15b7-4c0e-8244-160d2e0b17f8",
   "metadata": {},
   "outputs": [],
   "source": [
    "# RMSE value after tunning by RandomizedSerchCV is less than the one by GridSearchCV.\n",
    "# Use the hyperparameter values tunned by RandomizedSerchCV.\n",
    "xgb_reg = xgb.XGBRegressor(objective='reg:linear',\n",
    "                           n_estimator=1,                           \n",
    "                           min_child_weight=4,\n",
    "                           max_depth=2,\n",
    "                           learning_rate=0.3,\n",
    "                           gamma=100,\n",
    "                           eta=0.02,\n",
    "                           colsample_bytree=0.4,\n",
    "                           random_state=17\n",
    "                          )\n",
    "model=xgb_reg.fit(X_train, y_train)\n",
    "print(\"RMSE : {:.2f}\".format(sqrt(mean_squared_error(model.predict(X_test), y_test))))"
   ]
  },
  {
   "cell_type": "code",
   "execution_count": null,
   "id": "c99a3d50-8a78-4355-a720-1d23ddfbc1e2",
   "metadata": {
    "scrolled": true
   },
   "outputs": [],
   "source": [
    "import matplotlib.pyplot as plt\n",
    "import seaborn as sns\n",
    "pred_test = model.predict(X_test)\n",
    "fig, ax = plt.subplots(figsize=(6,5))\n",
    "ax.tick_params(labelsize=10)\n",
    "plt_test=sns.histplot(y_test[y_test<150], color='green', kde=True) # Actual Value\n",
    "plt_test=sns.histplot(pred_test[pred_test<150], color='blue', kde=True) # Predicted Value\n",
    "plt_test.set_title(\"Distribution of Actual and Prediced target values(Test dataset)\", weight='bold', size=12)\n",
    "plt_test.set_xlabel(\"Target Values\", weight='bold', size=10)\n",
    "plt_test.set_ylabel(\"Distribution\", weight='bold', size=10)\n",
    "plt.tight_layout()"
   ]
  },
  {
   "cell_type": "markdown",
   "id": "3198fcf6-6ca0-4f27-931d-b0397c1a8413",
   "metadata": {},
   "source": [
    "### 7. K-fold Cross Validation using XGBoost"
   ]
  },
  {
   "cell_type": "code",
   "execution_count": null,
   "id": "6c74ba2d-08dd-4588-afdc-679540fbd687",
   "metadata": {},
   "outputs": [],
   "source": [
    "dmatrix_train = xgb.DMatrix(data=df_x_train_trans, label=df_y_train)\n",
    "params={'objective': 'reg:squarederror',\n",
    "        'n_estimator': 300,\n",
    "        'min_child_weight': 2,\n",
    "        'max_depth': 3,\n",
    "        'learning_rate': 0.4,\n",
    "        'gamma': 1,\n",
    "        'eta': 0.022,\n",
    "        'colsample_bytree': 0.4,\n",
    "        'random_state': 2\n",
    "       }\n",
    "model_cv=xgb.cv(dtrain=dmatrix_train, params=params, nfold=3, num_boost_round=50)\n",
    "model_cv.tail(10)"
   ]
  },
  {
   "cell_type": "markdown",
   "id": "8990f102-fd50-4d70-ae2c-6e4c4e76ccfc",
   "metadata": {},
   "source": [
    "### By using k-fold validation, RMSE=10.59\n",
    "### RMSE was reduced by 17.8%"
   ]
  },
  {
   "cell_type": "markdown",
   "id": "861358c3-e6c9-4c08-9823-e2f8d486782c",
   "metadata": {},
   "source": [
    "### 8. Prediction on test dataset using XGBoost Regression."
   ]
  },
  {
   "cell_type": "code",
   "execution_count": null,
   "id": "2e476bac-ce46-4262-b6c6-0413213ab6cd",
   "metadata": {},
   "outputs": [],
   "source": [
    "# LabelEncoding was performed previously for test dataset"
   ]
  },
  {
   "cell_type": "code",
   "execution_count": null,
   "id": "814dacc3-d547-4711-89f8-b8dc8ba93632",
   "metadata": {},
   "outputs": [],
   "source": [
    "test_dataset.head()"
   ]
  },
  {
   "cell_type": "code",
   "execution_count": null,
   "id": "5fa26abb-4471-4f21-83dd-bef17956548d",
   "metadata": {},
   "outputs": [],
   "source": [
    "from sklearn.decomposition import PCA\n",
    "\n",
    "test_dataset.shape"
   ]
  },
  {
   "cell_type": "code",
   "execution_count": null,
   "id": "185062e8-f8fd-42b3-897b-16284cbe68b1",
   "metadata": {},
   "outputs": [],
   "source": [
    "test_dataset.dtypes.value_counts()"
   ]
  },
  {
   "cell_type": "code",
   "execution_count": null,
   "id": "f6461de0-11df-4a79-a6ce-cecd96eb6e16",
   "metadata": {},
   "outputs": [],
   "source": [
    "pca_dr.fit(test_dataset)"
   ]
  },
  {
   "cell_type": "code",
   "execution_count": null,
   "id": "e70ddfc6-e58c-4645-a39a-84209ff8527b",
   "metadata": {},
   "outputs": [],
   "source": [
    "df_x_test_trans = pca_dr.fit_transform(test_dataset)\n",
    "df_x_test_trans.shape"
   ]
  },
  {
   "cell_type": "code",
   "execution_count": null,
   "id": "95b1395b-b662-4d44-94fd-9e190555bc85",
   "metadata": {},
   "outputs": [],
   "source": [
    "print(df_x_test_trans)"
   ]
  },
  {
   "cell_type": "code",
   "execution_count": null,
   "id": "0bb68436-1027-43c3-a4ab-6c4c47eda3b1",
   "metadata": {},
   "outputs": [],
   "source": [
    "prediction_test=model.predict(df_x_test_trans)\n",
    "print(prediction_test)"
   ]
  },
  {
   "cell_type": "markdown",
   "id": "7b26aeca-6e79-46d6-84a7-ee7e023c8e8b",
   "metadata": {},
   "source": [
    "### 9. Plot actual target values of train dataset and predicted target values of test dataset."
   ]
  },
  {
   "cell_type": "code",
   "execution_count": null,
   "id": "3e223705",
   "metadata": {},
   "outputs": [],
   "source": [
    "# Plot actual values of train dataset and predicted values of test dataset"
   ]
  },
  {
   "cell_type": "code",
   "execution_count": null,
   "id": "589ad682",
   "metadata": {},
   "outputs": [],
   "source": [
    "fig, axe = plt.subplots(1, 2, figsize=(24, 10))\n",
    "# Actual values of train dataset\n",
    "plt_train = sns.histplot(df_y_train[(df_y_train<250)], bins=250, color='green', kde=True, ax=axe[0]) \n",
    "plt_train.set_xlabel('Target (train dataset)', weight='bold', size=20)\n",
    "plt_train.set_ylabel('Distribution', weight='bold', size=20)\n",
    "plt_train.set_title('Distribution of Actual Values for train dataset', weight='bold', size=25)\n",
    "# Predicted values of test dataset\n",
    "plt_test = sns.histplot(prediction_test[(prediction_test<250)], bins=250, color='blue', kde=True, ax=axe[1]) # Predicted values\n",
    "plt_test.set_xlabel('Target (test dataset)', weight='bold', size=20)\n",
    "plt_test.set_ylabel('Distribution', weight='bold', size=20)\n",
    "plt_test.set_title('Distribution of Predicted Values for test dataset', weight='bold', size=25)\n",
    "plt.tight_layout(w_pad= 20, pad = 4)"
   ]
  },
  {
   "cell_type": "markdown",
   "id": "ed88b68d-949f-4526-9a90-cbc77cdbcc66",
   "metadata": {},
   "source": [
    "### 10. Plot feature importance."
   ]
  },
  {
   "cell_type": "code",
   "execution_count": null,
   "id": "0585f1ce",
   "metadata": {},
   "outputs": [],
   "source": [
    "# Plot feature importance using plot_importance\n",
    "from xgboost import plot_importance\n",
    "import matplotlib.pyplot as plt\n",
    "plt.style.use('fivethirtyeight')\n",
    "plt.rcParams.update({'font.size': 16})\n",
    "\n",
    "fig, ax = plt.subplots(figsize=(10,4))\n",
    "plot_importance(model, max_num_features=10, ax=ax)\n",
    "plt.show();"
   ]
  },
  {
   "cell_type": "code",
   "execution_count": null,
   "id": "d6c784bb",
   "metadata": {},
   "outputs": [],
   "source": []
  },
  {
   "cell_type": "markdown",
   "id": "38cb0954-42dc-484a-b777-bcfd5fb2713d",
   "metadata": {},
   "source": [
    "Done by Sun Young Kim"
   ]
  }
 ],
 "metadata": {
  "kernelspec": {
   "display_name": "Python 3 (ipykernel)",
   "language": "python",
   "name": "python3"
  },
  "language_info": {
   "codemirror_mode": {
    "name": "ipython",
    "version": 3
   },
   "file_extension": ".py",
   "mimetype": "text/x-python",
   "name": "python",
   "nbconvert_exporter": "python",
   "pygments_lexer": "ipython3",
   "version": "3.12.0"
  }
 },
 "nbformat": 4,
 "nbformat_minor": 5
}
